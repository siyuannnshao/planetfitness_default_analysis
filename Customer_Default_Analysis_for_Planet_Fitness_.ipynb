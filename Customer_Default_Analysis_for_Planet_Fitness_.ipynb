{
  "cells": [
    {
      "cell_type": "markdown",
      "metadata": {
        "id": "ot5n9iEXXglo"
      },
      "source": [
        "# **1. Introduction**"
      ]
    },
    {
      "cell_type": "markdown",
      "metadata": {
        "id": "KgyOITf7ZMLu"
      },
      "source": [
        "## **Background Context**\n",
        "**Planet Fitness** (PF) is an American operator of fitness centers founded in 1992. Withe 2,039 clubs around, PF is one of the largest fitness club franchises by number of members and locations.\n",
        "\n",
        "It has approximately **13.5 million** members by January 2020, attained a **20%** market share of the US gym membership base.\n",
        "\n",
        "Moreover, its total revenue in 2020 was **\\$2.8 billion**, of which $2.4 billion was contributed by franchisee-owned stores.\n",
        "\n",
        "## **Business Problem**\n",
        "Customer memberships are integral part of Planet Fitness business. As the company continues to grow, it is important to also investigate customer attrition, **in particular due to non-payment of dues**. Few months ago, Planet Fitness was planning on giving out long-term membership offers to selective customers. This posesseses huge risk and the company would like to identify customers who fail to make payment ahead of time.\n",
        "\n",
        "The objective of this project is to look at historical data of customers and determine whether they defaulted or continue making payment. Also, it is trying to come up with a machine learning solution that can be used to predict future defaulting.\n",
        "\n",
        "## **Dataset**\n",
        "This dataset contains customer information including age, gender, usage, months due, down payment, etc from **1997** to **1999**.\n",
        "\n",
        "## **Content**\n",
        "There are 9 variables:\n",
        "* **enroldt**: Enrollment date of the membership\n",
        "* **price**: membership price\n",
        "* **downpmt**: Down payment\n",
        "* **monthdue**: Months Due\n",
        "* **pmttype**: Payment method type (1=Credit Card, 3=Cash, 4=Check, 5=Debit Card, 2 is missing in the original dataset)\n",
        "* **use**: Usage\n",
        "* **age**: Age of customer\n",
        "* **gener**: Gender of customer (1=Male, 2=Female)\n",
        "* **default**: (1=Default, 2=Non-Default)"
      ]
    },
    {
      "cell_type": "markdown",
      "metadata": {
        "id": "1rnOQcJVXimv"
      },
      "source": [
        "# **2. Load Packages & Data**"
      ]
    },
    {
      "cell_type": "markdown",
      "metadata": {
        "id": "UydpsOLjzvKo"
      },
      "source": [
        "**Importing basic libraries**"
      ]
    },
    {
      "cell_type": "code",
      "execution_count": null,
      "metadata": {
        "id": "TrRP0DPaztE6"
      },
      "outputs": [],
      "source": [
        "import pandas as pd\n",
        "import numpy as np\n",
        "import seaborn as sns\n",
        "import warnings\n",
        "import matplotlib.pyplot as plt\n",
        "warnings.filterwarnings('ignore')"
      ]
    },
    {
      "cell_type": "markdown",
      "metadata": {
        "id": "JsI-Ln250FIV"
      },
      "source": [
        "**Read data**"
      ]
    },
    {
      "cell_type": "code",
      "execution_count": null,
      "metadata": {
        "colab": {
          "base_uri": "https://localhost:8080/"
        },
        "id": "PnhR_-V45HjX",
        "outputId": "625ce404-b090-4959-8e7d-dbe45163cb63"
      },
      "outputs": [
        {
          "output_type": "stream",
          "name": "stdout",
          "text": [
            "Mounted at /content/gdrive\n"
          ]
        }
      ],
      "source": [
        "from google.colab import drive \n",
        "drive.mount('/content/gdrive')"
      ]
    },
    {
      "cell_type": "code",
      "execution_count": null,
      "metadata": {
        "colab": {
          "base_uri": "https://localhost:8080/"
        },
        "id": "XZ5aBiSO5kqk",
        "outputId": "7038d2c4-cc33-43aa-f4af-f2bf55494fd1"
      },
      "outputs": [
        {
          "output_type": "stream",
          "name": "stdout",
          "text": [
            "Customer Default data - rows: 24843, columns: 9\n"
          ]
        }
      ],
      "source": [
        "path = '/content/gdrive/MyDrive/PlanetFitness.xlsx'\n",
        "df = pd.read_excel(path)\n",
        "print(\"Customer Default data - rows: %d, columns: %d\" % (df.shape[0], df.shape[1]))"
      ]
    },
    {
      "cell_type": "markdown",
      "metadata": {
        "id": "TcuWzsqVDW2a"
      },
      "source": [
        "**Set constant**"
      ]
    },
    {
      "cell_type": "code",
      "execution_count": null,
      "metadata": {
        "id": "dqBUGXclDc3o"
      },
      "outputs": [],
      "source": [
        "TEST_SIZE = 0.4 # simple validation using train_test_split\n",
        "RANDOM_STATE = 42"
      ]
    },
    {
      "cell_type": "markdown",
      "metadata": {
        "id": "lwusAiQLYC8m"
      },
      "source": [
        "# 3. Check Data"
      ]
    },
    {
      "cell_type": "markdown",
      "metadata": {
        "id": "Xyjn5FLrYqJo"
      },
      "source": [
        "Peaking the data frame (first 5 rows)."
      ]
    },
    {
      "cell_type": "code",
      "execution_count": null,
      "metadata": {
        "colab": {
          "base_uri": "https://localhost:8080/",
          "height": 206
        },
        "id": "EueRvE3zzslM",
        "outputId": "45766cdc-3e38-4e9c-fa06-3ccc685951e4"
      },
      "outputs": [
        {
          "output_type": "execute_result",
          "data": {
            "text/html": [
              "\n",
              "  <div id=\"df-111d8e11-4865-4ab4-a5d4-72910785eb52\">\n",
              "    <div class=\"colab-df-container\">\n",
              "      <div>\n",
              "<style scoped>\n",
              "    .dataframe tbody tr th:only-of-type {\n",
              "        vertical-align: middle;\n",
              "    }\n",
              "\n",
              "    .dataframe tbody tr th {\n",
              "        vertical-align: top;\n",
              "    }\n",
              "\n",
              "    .dataframe thead th {\n",
              "        text-align: right;\n",
              "    }\n",
              "</style>\n",
              "<table border=\"1\" class=\"dataframe\">\n",
              "  <thead>\n",
              "    <tr style=\"text-align: right;\">\n",
              "      <th></th>\n",
              "      <th>enrolldt</th>\n",
              "      <th>price</th>\n",
              "      <th>downpmt</th>\n",
              "      <th>monthdue</th>\n",
              "      <th>pmttype</th>\n",
              "      <th>use</th>\n",
              "      <th>age</th>\n",
              "      <th>gender</th>\n",
              "      <th>default</th>\n",
              "    </tr>\n",
              "  </thead>\n",
              "  <tbody>\n",
              "    <tr>\n",
              "      <th>0</th>\n",
              "      <td>19970101</td>\n",
              "      <td>2178.85</td>\n",
              "      <td>250.00</td>\n",
              "      <td>6.0</td>\n",
              "      <td>4</td>\n",
              "      <td>1</td>\n",
              "      <td>0</td>\n",
              "      <td>2</td>\n",
              "      <td>0</td>\n",
              "    </tr>\n",
              "    <tr>\n",
              "      <th>1</th>\n",
              "      <td>19970102</td>\n",
              "      <td>1543.65</td>\n",
              "      <td>1543.65</td>\n",
              "      <td>6.0</td>\n",
              "      <td>1</td>\n",
              "      <td>0</td>\n",
              "      <td>0</td>\n",
              "      <td>2</td>\n",
              "      <td>0</td>\n",
              "    </tr>\n",
              "    <tr>\n",
              "      <th>2</th>\n",
              "      <td>19970103</td>\n",
              "      <td>1107.67</td>\n",
              "      <td>125.00</td>\n",
              "      <td>5.0</td>\n",
              "      <td>1</td>\n",
              "      <td>0</td>\n",
              "      <td>0</td>\n",
              "      <td>2</td>\n",
              "      <td>0</td>\n",
              "    </tr>\n",
              "    <tr>\n",
              "      <th>3</th>\n",
              "      <td>19970104</td>\n",
              "      <td>950.44</td>\n",
              "      <td>237.61</td>\n",
              "      <td>9.0</td>\n",
              "      <td>5</td>\n",
              "      <td>0</td>\n",
              "      <td>0</td>\n",
              "      <td>1</td>\n",
              "      <td>0</td>\n",
              "    </tr>\n",
              "    <tr>\n",
              "      <th>4</th>\n",
              "      <td>19970105</td>\n",
              "      <td>1436.00</td>\n",
              "      <td>250.00</td>\n",
              "      <td>9.0</td>\n",
              "      <td>3</td>\n",
              "      <td>0</td>\n",
              "      <td>0</td>\n",
              "      <td>2</td>\n",
              "      <td>0</td>\n",
              "    </tr>\n",
              "  </tbody>\n",
              "</table>\n",
              "</div>\n",
              "      <button class=\"colab-df-convert\" onclick=\"convertToInteractive('df-111d8e11-4865-4ab4-a5d4-72910785eb52')\"\n",
              "              title=\"Convert this dataframe to an interactive table.\"\n",
              "              style=\"display:none;\">\n",
              "        \n",
              "  <svg xmlns=\"http://www.w3.org/2000/svg\" height=\"24px\"viewBox=\"0 0 24 24\"\n",
              "       width=\"24px\">\n",
              "    <path d=\"M0 0h24v24H0V0z\" fill=\"none\"/>\n",
              "    <path d=\"M18.56 5.44l.94 2.06.94-2.06 2.06-.94-2.06-.94-.94-2.06-.94 2.06-2.06.94zm-11 1L8.5 8.5l.94-2.06 2.06-.94-2.06-.94L8.5 2.5l-.94 2.06-2.06.94zm10 10l.94 2.06.94-2.06 2.06-.94-2.06-.94-.94-2.06-.94 2.06-2.06.94z\"/><path d=\"M17.41 7.96l-1.37-1.37c-.4-.4-.92-.59-1.43-.59-.52 0-1.04.2-1.43.59L10.3 9.45l-7.72 7.72c-.78.78-.78 2.05 0 2.83L4 21.41c.39.39.9.59 1.41.59.51 0 1.02-.2 1.41-.59l7.78-7.78 2.81-2.81c.8-.78.8-2.07 0-2.86zM5.41 20L4 18.59l7.72-7.72 1.47 1.35L5.41 20z\"/>\n",
              "  </svg>\n",
              "      </button>\n",
              "      \n",
              "  <style>\n",
              "    .colab-df-container {\n",
              "      display:flex;\n",
              "      flex-wrap:wrap;\n",
              "      gap: 12px;\n",
              "    }\n",
              "\n",
              "    .colab-df-convert {\n",
              "      background-color: #E8F0FE;\n",
              "      border: none;\n",
              "      border-radius: 50%;\n",
              "      cursor: pointer;\n",
              "      display: none;\n",
              "      fill: #1967D2;\n",
              "      height: 32px;\n",
              "      padding: 0 0 0 0;\n",
              "      width: 32px;\n",
              "    }\n",
              "\n",
              "    .colab-df-convert:hover {\n",
              "      background-color: #E2EBFA;\n",
              "      box-shadow: 0px 1px 2px rgba(60, 64, 67, 0.3), 0px 1px 3px 1px rgba(60, 64, 67, 0.15);\n",
              "      fill: #174EA6;\n",
              "    }\n",
              "\n",
              "    [theme=dark] .colab-df-convert {\n",
              "      background-color: #3B4455;\n",
              "      fill: #D2E3FC;\n",
              "    }\n",
              "\n",
              "    [theme=dark] .colab-df-convert:hover {\n",
              "      background-color: #434B5C;\n",
              "      box-shadow: 0px 1px 3px 1px rgba(0, 0, 0, 0.15);\n",
              "      filter: drop-shadow(0px 1px 2px rgba(0, 0, 0, 0.3));\n",
              "      fill: #FFFFFF;\n",
              "    }\n",
              "  </style>\n",
              "\n",
              "      <script>\n",
              "        const buttonEl =\n",
              "          document.querySelector('#df-111d8e11-4865-4ab4-a5d4-72910785eb52 button.colab-df-convert');\n",
              "        buttonEl.style.display =\n",
              "          google.colab.kernel.accessAllowed ? 'block' : 'none';\n",
              "\n",
              "        async function convertToInteractive(key) {\n",
              "          const element = document.querySelector('#df-111d8e11-4865-4ab4-a5d4-72910785eb52');\n",
              "          const dataTable =\n",
              "            await google.colab.kernel.invokeFunction('convertToInteractive',\n",
              "                                                     [key], {});\n",
              "          if (!dataTable) return;\n",
              "\n",
              "          const docLinkHtml = 'Like what you see? Visit the ' +\n",
              "            '<a target=\"_blank\" href=https://colab.research.google.com/notebooks/data_table.ipynb>data table notebook</a>'\n",
              "            + ' to learn more about interactive tables.';\n",
              "          element.innerHTML = '';\n",
              "          dataTable['output_type'] = 'display_data';\n",
              "          await google.colab.output.renderOutput(dataTable, element);\n",
              "          const docLink = document.createElement('div');\n",
              "          docLink.innerHTML = docLinkHtml;\n",
              "          element.appendChild(docLink);\n",
              "        }\n",
              "      </script>\n",
              "    </div>\n",
              "  </div>\n",
              "  "
            ],
            "text/plain": [
              "   enrolldt    price  downpmt  monthdue  pmttype  use  age  gender  default\n",
              "0  19970101  2178.85   250.00       6.0        4    1    0       2        0\n",
              "1  19970102  1543.65  1543.65       6.0        1    0    0       2        0\n",
              "2  19970103  1107.67   125.00       5.0        1    0    0       2        0\n",
              "3  19970104   950.44   237.61       9.0        5    0    0       1        0\n",
              "4  19970105  1436.00   250.00       9.0        3    0    0       2        0"
            ]
          },
          "metadata": {},
          "execution_count": 5
        }
      ],
      "source": [
        "df.head()"
      ]
    },
    {
      "cell_type": "markdown",
      "metadata": {
        "id": "KvV_2UBFZN9C"
      },
      "source": [
        "Looking at the data frame info."
      ]
    },
    {
      "cell_type": "code",
      "execution_count": null,
      "metadata": {
        "colab": {
          "base_uri": "https://localhost:8080/"
        },
        "id": "vaPaS00dZPHq",
        "outputId": "53948c96-0756-4017-d6ae-d91ced6a47bf"
      },
      "outputs": [
        {
          "output_type": "stream",
          "name": "stdout",
          "text": [
            "<class 'pandas.core.frame.DataFrame'>\n",
            "RangeIndex: 24843 entries, 0 to 24842\n",
            "Data columns (total 9 columns):\n",
            " #   Column    Non-Null Count  Dtype  \n",
            "---  ------    --------------  -----  \n",
            " 0   enrolldt  24843 non-null  int64  \n",
            " 1   price     24843 non-null  float64\n",
            " 2   downpmt   24843 non-null  float64\n",
            " 3   monthdue  24843 non-null  float64\n",
            " 4   pmttype   24843 non-null  int64  \n",
            " 5   use       24843 non-null  int64  \n",
            " 6   age       24843 non-null  int64  \n",
            " 7   gender    24843 non-null  int64  \n",
            " 8   default   24843 non-null  int64  \n",
            "dtypes: float64(3), int64(6)\n",
            "memory usage: 1.7 MB\n"
          ]
        }
      ],
      "source": [
        "df.info()"
      ]
    },
    {
      "cell_type": "markdown",
      "metadata": {
        "id": "EVh5Hi7-YuJ7"
      },
      "source": [
        "Looking into more details to the data - basic descriptive statistics (mean, median, min, max, standard deviation, etc) for each field."
      ]
    },
    {
      "cell_type": "code",
      "execution_count": null,
      "metadata": {
        "colab": {
          "base_uri": "https://localhost:8080/",
          "height": 300
        },
        "id": "wxzjD9L9Yma6",
        "outputId": "0a9a5a06-12d2-4d5e-bf26-b39e23ca283e"
      },
      "outputs": [
        {
          "output_type": "execute_result",
          "data": {
            "text/html": [
              "\n",
              "  <div id=\"df-559270a7-cbf6-4c7a-9ca5-4cf5527dde26\">\n",
              "    <div class=\"colab-df-container\">\n",
              "      <div>\n",
              "<style scoped>\n",
              "    .dataframe tbody tr th:only-of-type {\n",
              "        vertical-align: middle;\n",
              "    }\n",
              "\n",
              "    .dataframe tbody tr th {\n",
              "        vertical-align: top;\n",
              "    }\n",
              "\n",
              "    .dataframe thead th {\n",
              "        text-align: right;\n",
              "    }\n",
              "</style>\n",
              "<table border=\"1\" class=\"dataframe\">\n",
              "  <thead>\n",
              "    <tr style=\"text-align: right;\">\n",
              "      <th></th>\n",
              "      <th>enrolldt</th>\n",
              "      <th>price</th>\n",
              "      <th>downpmt</th>\n",
              "      <th>monthdue</th>\n",
              "      <th>pmttype</th>\n",
              "      <th>use</th>\n",
              "      <th>age</th>\n",
              "      <th>gender</th>\n",
              "      <th>default</th>\n",
              "    </tr>\n",
              "  </thead>\n",
              "  <tbody>\n",
              "    <tr>\n",
              "      <th>count</th>\n",
              "      <td>2.484300e+04</td>\n",
              "      <td>24843.000000</td>\n",
              "      <td>24843.000000</td>\n",
              "      <td>24843.000000</td>\n",
              "      <td>24843.000000</td>\n",
              "      <td>24843.000000</td>\n",
              "      <td>24843.000000</td>\n",
              "      <td>24843.000000</td>\n",
              "      <td>24843.000000</td>\n",
              "    </tr>\n",
              "    <tr>\n",
              "      <th>mean</th>\n",
              "      <td>1.998252e+07</td>\n",
              "      <td>1003.658899</td>\n",
              "      <td>199.824535</td>\n",
              "      <td>8.287290</td>\n",
              "      <td>3.093225</td>\n",
              "      <td>1.944371</td>\n",
              "      <td>29.203317</td>\n",
              "      <td>1.498007</td>\n",
              "      <td>0.115042</td>\n",
              "    </tr>\n",
              "    <tr>\n",
              "      <th>std</th>\n",
              "      <td>7.171701e+03</td>\n",
              "      <td>439.224768</td>\n",
              "      <td>335.437237</td>\n",
              "      <td>7.108381</td>\n",
              "      <td>1.560034</td>\n",
              "      <td>2.315550</td>\n",
              "      <td>13.277721</td>\n",
              "      <td>0.500006</td>\n",
              "      <td>0.319080</td>\n",
              "    </tr>\n",
              "    <tr>\n",
              "      <th>min</th>\n",
              "      <td>1.997010e+07</td>\n",
              "      <td>0.000000</td>\n",
              "      <td>0.000000</td>\n",
              "      <td>0.000000</td>\n",
              "      <td>1.000000</td>\n",
              "      <td>0.000000</td>\n",
              "      <td>0.000000</td>\n",
              "      <td>1.000000</td>\n",
              "      <td>0.000000</td>\n",
              "    </tr>\n",
              "    <tr>\n",
              "      <th>25%</th>\n",
              "      <td>1.997631e+07</td>\n",
              "      <td>699.000000</td>\n",
              "      <td>49.000000</td>\n",
              "      <td>5.500000</td>\n",
              "      <td>1.000000</td>\n",
              "      <td>0.000000</td>\n",
              "      <td>22.000000</td>\n",
              "      <td>1.000000</td>\n",
              "      <td>0.000000</td>\n",
              "    </tr>\n",
              "    <tr>\n",
              "      <th>50%</th>\n",
              "      <td>1.998252e+07</td>\n",
              "      <td>999.000000</td>\n",
              "      <td>100.000000</td>\n",
              "      <td>6.000000</td>\n",
              "      <td>3.000000</td>\n",
              "      <td>1.000000</td>\n",
              "      <td>28.000000</td>\n",
              "      <td>1.000000</td>\n",
              "      <td>0.000000</td>\n",
              "    </tr>\n",
              "    <tr>\n",
              "      <th>75%</th>\n",
              "      <td>1.998873e+07</td>\n",
              "      <td>1249.000000</td>\n",
              "      <td>175.000000</td>\n",
              "      <td>9.000000</td>\n",
              "      <td>4.000000</td>\n",
              "      <td>3.000000</td>\n",
              "      <td>36.000000</td>\n",
              "      <td>2.000000</td>\n",
              "      <td>0.000000</td>\n",
              "    </tr>\n",
              "    <tr>\n",
              "      <th>max</th>\n",
              "      <td>1.999494e+07</td>\n",
              "      <td>9371.250000</td>\n",
              "      <td>9371.250000</td>\n",
              "      <td>120.000000</td>\n",
              "      <td>5.000000</td>\n",
              "      <td>8.000000</td>\n",
              "      <td>99.000000</td>\n",
              "      <td>2.000000</td>\n",
              "      <td>1.000000</td>\n",
              "    </tr>\n",
              "  </tbody>\n",
              "</table>\n",
              "</div>\n",
              "      <button class=\"colab-df-convert\" onclick=\"convertToInteractive('df-559270a7-cbf6-4c7a-9ca5-4cf5527dde26')\"\n",
              "              title=\"Convert this dataframe to an interactive table.\"\n",
              "              style=\"display:none;\">\n",
              "        \n",
              "  <svg xmlns=\"http://www.w3.org/2000/svg\" height=\"24px\"viewBox=\"0 0 24 24\"\n",
              "       width=\"24px\">\n",
              "    <path d=\"M0 0h24v24H0V0z\" fill=\"none\"/>\n",
              "    <path d=\"M18.56 5.44l.94 2.06.94-2.06 2.06-.94-2.06-.94-.94-2.06-.94 2.06-2.06.94zm-11 1L8.5 8.5l.94-2.06 2.06-.94-2.06-.94L8.5 2.5l-.94 2.06-2.06.94zm10 10l.94 2.06.94-2.06 2.06-.94-2.06-.94-.94-2.06-.94 2.06-2.06.94z\"/><path d=\"M17.41 7.96l-1.37-1.37c-.4-.4-.92-.59-1.43-.59-.52 0-1.04.2-1.43.59L10.3 9.45l-7.72 7.72c-.78.78-.78 2.05 0 2.83L4 21.41c.39.39.9.59 1.41.59.51 0 1.02-.2 1.41-.59l7.78-7.78 2.81-2.81c.8-.78.8-2.07 0-2.86zM5.41 20L4 18.59l7.72-7.72 1.47 1.35L5.41 20z\"/>\n",
              "  </svg>\n",
              "      </button>\n",
              "      \n",
              "  <style>\n",
              "    .colab-df-container {\n",
              "      display:flex;\n",
              "      flex-wrap:wrap;\n",
              "      gap: 12px;\n",
              "    }\n",
              "\n",
              "    .colab-df-convert {\n",
              "      background-color: #E8F0FE;\n",
              "      border: none;\n",
              "      border-radius: 50%;\n",
              "      cursor: pointer;\n",
              "      display: none;\n",
              "      fill: #1967D2;\n",
              "      height: 32px;\n",
              "      padding: 0 0 0 0;\n",
              "      width: 32px;\n",
              "    }\n",
              "\n",
              "    .colab-df-convert:hover {\n",
              "      background-color: #E2EBFA;\n",
              "      box-shadow: 0px 1px 2px rgba(60, 64, 67, 0.3), 0px 1px 3px 1px rgba(60, 64, 67, 0.15);\n",
              "      fill: #174EA6;\n",
              "    }\n",
              "\n",
              "    [theme=dark] .colab-df-convert {\n",
              "      background-color: #3B4455;\n",
              "      fill: #D2E3FC;\n",
              "    }\n",
              "\n",
              "    [theme=dark] .colab-df-convert:hover {\n",
              "      background-color: #434B5C;\n",
              "      box-shadow: 0px 1px 3px 1px rgba(0, 0, 0, 0.15);\n",
              "      filter: drop-shadow(0px 1px 2px rgba(0, 0, 0, 0.3));\n",
              "      fill: #FFFFFF;\n",
              "    }\n",
              "  </style>\n",
              "\n",
              "      <script>\n",
              "        const buttonEl =\n",
              "          document.querySelector('#df-559270a7-cbf6-4c7a-9ca5-4cf5527dde26 button.colab-df-convert');\n",
              "        buttonEl.style.display =\n",
              "          google.colab.kernel.accessAllowed ? 'block' : 'none';\n",
              "\n",
              "        async function convertToInteractive(key) {\n",
              "          const element = document.querySelector('#df-559270a7-cbf6-4c7a-9ca5-4cf5527dde26');\n",
              "          const dataTable =\n",
              "            await google.colab.kernel.invokeFunction('convertToInteractive',\n",
              "                                                     [key], {});\n",
              "          if (!dataTable) return;\n",
              "\n",
              "          const docLinkHtml = 'Like what you see? Visit the ' +\n",
              "            '<a target=\"_blank\" href=https://colab.research.google.com/notebooks/data_table.ipynb>data table notebook</a>'\n",
              "            + ' to learn more about interactive tables.';\n",
              "          element.innerHTML = '';\n",
              "          dataTable['output_type'] = 'display_data';\n",
              "          await google.colab.output.renderOutput(dataTable, element);\n",
              "          const docLink = document.createElement('div');\n",
              "          docLink.innerHTML = docLinkHtml;\n",
              "          element.appendChild(docLink);\n",
              "        }\n",
              "      </script>\n",
              "    </div>\n",
              "  </div>\n",
              "  "
            ],
            "text/plain": [
              "           enrolldt         price  ...        gender       default\n",
              "count  2.484300e+04  24843.000000  ...  24843.000000  24843.000000\n",
              "mean   1.998252e+07   1003.658899  ...      1.498007      0.115042\n",
              "std    7.171701e+03    439.224768  ...      0.500006      0.319080\n",
              "min    1.997010e+07      0.000000  ...      1.000000      0.000000\n",
              "25%    1.997631e+07    699.000000  ...      1.000000      0.000000\n",
              "50%    1.998252e+07    999.000000  ...      1.000000      0.000000\n",
              "75%    1.998873e+07   1249.000000  ...      2.000000      0.000000\n",
              "max    1.999494e+07   9371.250000  ...      2.000000      1.000000\n",
              "\n",
              "[8 rows x 9 columns]"
            ]
          },
          "metadata": {},
          "execution_count": 7
        }
      ],
      "source": [
        "df.describe()"
      ]
    },
    {
      "cell_type": "markdown",
      "metadata": {
        "id": "_Pb2mXr6ZC04"
      },
      "source": [
        "There are 24,843 distinct customers. \n",
        "\n",
        "The average value for the price of membership is 1003.65. The standard deviation is unusually large, max value being 9371.25.\n",
        "\n",
        "The std for downpmt is also unusually high. The mean is about 200 and std about 335. This is is due to extreme values such as the maximum value is 9371.25.\n",
        "\n",
        "There are also outliers in monthdue causing the mean being 8.28 while the std is 7.1.\n",
        "\n",
        "Average age is around 29 years old and approximately half of the customers are male and half are female.\n",
        "\n",
        "In the default column, 1 means the customer defaults and 0 means the customer will not default. The default rate is approximately 11.5%.\n",
        "\n",
        "\n"
      ]
    },
    {
      "cell_type": "markdown",
      "metadata": {
        "id": "-3nSUxFC5mjz"
      },
      "source": [
        "Checking missing data.\n"
      ]
    },
    {
      "cell_type": "code",
      "execution_count": null,
      "metadata": {
        "colab": {
          "base_uri": "https://localhost:8080/",
          "height": 437
        },
        "id": "HBJLje-IYmYO",
        "outputId": "59ebdeb0-55df-426e-bd6d-7b6ab04d648e"
      },
      "outputs": [
        {
          "output_type": "execute_result",
          "data": {
            "text/plain": [
              "<matplotlib.axes._subplots.AxesSubplot at 0x7f00080fbf10>"
            ]
          },
          "metadata": {},
          "execution_count": 8
        },
        {
          "output_type": "display_data",
          "data": {
            "image/png": "[encoded data removed]",
            "text/plain": [
              "<Figure size 576x432 with 2 Axes>"
            ]
          },
          "metadata": {
            "needs_background": "light"
          }
        }
      ],
      "source": [
        "plt.figure(figsize = (8, 6))\n",
        "sns.heatmap(df.isnull())"
      ]
    },
    {
      "cell_type": "code",
      "execution_count": null,
      "metadata": {
        "colab": {
          "base_uri": "https://localhost:8080/",
          "height": 332
        },
        "id": "opTcYTVIYmOR",
        "outputId": "727b997f-47c6-44a2-93b9-f3c0f3bbfb8b"
      },
      "outputs": [
        {
          "output_type": "execute_result",
          "data": {
            "text/html": [
              "\n",
              "  <div id=\"df-1e21d7a1-93d7-4562-a390-cdc606645a24\">\n",
              "    <div class=\"colab-df-container\">\n",
              "      <div>\n",
              "<style scoped>\n",
              "    .dataframe tbody tr th:only-of-type {\n",
              "        vertical-align: middle;\n",
              "    }\n",
              "\n",
              "    .dataframe tbody tr th {\n",
              "        vertical-align: top;\n",
              "    }\n",
              "\n",
              "    .dataframe thead th {\n",
              "        text-align: right;\n",
              "    }\n",
              "</style>\n",
              "<table border=\"1\" class=\"dataframe\">\n",
              "  <thead>\n",
              "    <tr style=\"text-align: right;\">\n",
              "      <th></th>\n",
              "      <th>Total</th>\n",
              "      <th>Percent</th>\n",
              "    </tr>\n",
              "  </thead>\n",
              "  <tbody>\n",
              "    <tr>\n",
              "      <th>default</th>\n",
              "      <td>0</td>\n",
              "      <td>0.0</td>\n",
              "    </tr>\n",
              "    <tr>\n",
              "      <th>gender</th>\n",
              "      <td>0</td>\n",
              "      <td>0.0</td>\n",
              "    </tr>\n",
              "    <tr>\n",
              "      <th>age</th>\n",
              "      <td>0</td>\n",
              "      <td>0.0</td>\n",
              "    </tr>\n",
              "    <tr>\n",
              "      <th>use</th>\n",
              "      <td>0</td>\n",
              "      <td>0.0</td>\n",
              "    </tr>\n",
              "    <tr>\n",
              "      <th>pmttype</th>\n",
              "      <td>0</td>\n",
              "      <td>0.0</td>\n",
              "    </tr>\n",
              "    <tr>\n",
              "      <th>monthdue</th>\n",
              "      <td>0</td>\n",
              "      <td>0.0</td>\n",
              "    </tr>\n",
              "    <tr>\n",
              "      <th>downpmt</th>\n",
              "      <td>0</td>\n",
              "      <td>0.0</td>\n",
              "    </tr>\n",
              "    <tr>\n",
              "      <th>price</th>\n",
              "      <td>0</td>\n",
              "      <td>0.0</td>\n",
              "    </tr>\n",
              "    <tr>\n",
              "      <th>enrolldt</th>\n",
              "      <td>0</td>\n",
              "      <td>0.0</td>\n",
              "    </tr>\n",
              "  </tbody>\n",
              "</table>\n",
              "</div>\n",
              "      <button class=\"colab-df-convert\" onclick=\"convertToInteractive('df-1e21d7a1-93d7-4562-a390-cdc606645a24')\"\n",
              "              title=\"Convert this dataframe to an interactive table.\"\n",
              "              style=\"display:none;\">\n",
              "        \n",
              "  <svg xmlns=\"http://www.w3.org/2000/svg\" height=\"24px\"viewBox=\"0 0 24 24\"\n",
              "       width=\"24px\">\n",
              "    <path d=\"M0 0h24v24H0V0z\" fill=\"none\"/>\n",
              "    <path d=\"M18.56 5.44l.94 2.06.94-2.06 2.06-.94-2.06-.94-.94-2.06-.94 2.06-2.06.94zm-11 1L8.5 8.5l.94-2.06 2.06-.94-2.06-.94L8.5 2.5l-.94 2.06-2.06.94zm10 10l.94 2.06.94-2.06 2.06-.94-2.06-.94-.94-2.06-.94 2.06-2.06.94z\"/><path d=\"M17.41 7.96l-1.37-1.37c-.4-.4-.92-.59-1.43-.59-.52 0-1.04.2-1.43.59L10.3 9.45l-7.72 7.72c-.78.78-.78 2.05 0 2.83L4 21.41c.39.39.9.59 1.41.59.51 0 1.02-.2 1.41-.59l7.78-7.78 2.81-2.81c.8-.78.8-2.07 0-2.86zM5.41 20L4 18.59l7.72-7.72 1.47 1.35L5.41 20z\"/>\n",
              "  </svg>\n",
              "      </button>\n",
              "      \n",
              "  <style>\n",
              "    .colab-df-container {\n",
              "      display:flex;\n",
              "      flex-wrap:wrap;\n",
              "      gap: 12px;\n",
              "    }\n",
              "\n",
              "    .colab-df-convert {\n",
              "      background-color: #E8F0FE;\n",
              "      border: none;\n",
              "      border-radius: 50%;\n",
              "      cursor: pointer;\n",
              "      display: none;\n",
              "      fill: #1967D2;\n",
              "      height: 32px;\n",
              "      padding: 0 0 0 0;\n",
              "      width: 32px;\n",
              "    }\n",
              "\n",
              "    .colab-df-convert:hover {\n",
              "      background-color: #E2EBFA;\n",
              "      box-shadow: 0px 1px 2px rgba(60, 64, 67, 0.3), 0px 1px 3px 1px rgba(60, 64, 67, 0.15);\n",
              "      fill: #174EA6;\n",
              "    }\n",
              "\n",
              "    [theme=dark] .colab-df-convert {\n",
              "      background-color: #3B4455;\n",
              "      fill: #D2E3FC;\n",
              "    }\n",
              "\n",
              "    [theme=dark] .colab-df-convert:hover {\n",
              "      background-color: #434B5C;\n",
              "      box-shadow: 0px 1px 3px 1px rgba(0, 0, 0, 0.15);\n",
              "      filter: drop-shadow(0px 1px 2px rgba(0, 0, 0, 0.3));\n",
              "      fill: #FFFFFF;\n",
              "    }\n",
              "  </style>\n",
              "\n",
              "      <script>\n",
              "        const buttonEl =\n",
              "          document.querySelector('#df-1e21d7a1-93d7-4562-a390-cdc606645a24 button.colab-df-convert');\n",
              "        buttonEl.style.display =\n",
              "          google.colab.kernel.accessAllowed ? 'block' : 'none';\n",
              "\n",
              "        async function convertToInteractive(key) {\n",
              "          const element = document.querySelector('#df-1e21d7a1-93d7-4562-a390-cdc606645a24');\n",
              "          const dataTable =\n",
              "            await google.colab.kernel.invokeFunction('convertToInteractive',\n",
              "                                                     [key], {});\n",
              "          if (!dataTable) return;\n",
              "\n",
              "          const docLinkHtml = 'Like what you see? Visit the ' +\n",
              "            '<a target=\"_blank\" href=https://colab.research.google.com/notebooks/data_table.ipynb>data table notebook</a>'\n",
              "            + ' to learn more about interactive tables.';\n",
              "          element.innerHTML = '';\n",
              "          dataTable['output_type'] = 'display_data';\n",
              "          await google.colab.output.renderOutput(dataTable, element);\n",
              "          const docLink = document.createElement('div');\n",
              "          docLink.innerHTML = docLinkHtml;\n",
              "          element.appendChild(docLink);\n",
              "        }\n",
              "      </script>\n",
              "    </div>\n",
              "  </div>\n",
              "  "
            ],
            "text/plain": [
              "          Total  Percent\n",
              "default       0      0.0\n",
              "gender        0      0.0\n",
              "age           0      0.0\n",
              "use           0      0.0\n",
              "pmttype       0      0.0\n",
              "monthdue      0      0.0\n",
              "downpmt       0      0.0\n",
              "price         0      0.0\n",
              "enrolldt      0      0.0"
            ]
          },
          "metadata": {},
          "execution_count": 9
        }
      ],
      "source": [
        "total = df.isnull().sum().sort_values(ascending=False)\n",
        "percent = (df.isnull().sum() / df.isnull().count() * 100).sort_values(ascending=False)\n",
        "pd.concat([total, percent], axis=1, keys=['Total', 'Percent'])"
      ]
    },
    {
      "cell_type": "markdown",
      "metadata": {
        "id": "7BC0d-ly7F2w"
      },
      "source": [
        "There is no missing data in the dataset."
      ]
    },
    {
      "cell_type": "markdown",
      "metadata": {
        "id": "RoehEJch7Wbi"
      },
      "source": [
        "# 4. Data Cleaning"
      ]
    },
    {
      "cell_type": "markdown",
      "metadata": {
        "id": "F8IJs4Fq7zLm"
      },
      "source": [
        "1. Change the enrollment date to year.\n",
        "\n",
        "2. Replace extremely high and low values with median for price, downpmt and month_due.\n",
        "\n",
        "3. Replace unrealistically low and high values in the age column with median.\n"
      ]
    },
    {
      "cell_type": "code",
      "execution_count": null,
      "metadata": {
        "colab": {
          "base_uri": "https://localhost:8080/",
          "height": 206
        },
        "id": "cXrSBDj-8IAw",
        "outputId": "79c29df9-c6bd-4dad-92f5-916527cc5bde"
      },
      "outputs": [
        {
          "output_type": "execute_result",
          "data": {
            "text/html": [
              "\n",
              "  <div id=\"df-a2b9e818-66d5-431f-b023-5ac6c537655c\">\n",
              "    <div class=\"colab-df-container\">\n",
              "      <div>\n",
              "<style scoped>\n",
              "    .dataframe tbody tr th:only-of-type {\n",
              "        vertical-align: middle;\n",
              "    }\n",
              "\n",
              "    .dataframe tbody tr th {\n",
              "        vertical-align: top;\n",
              "    }\n",
              "\n",
              "    .dataframe thead th {\n",
              "        text-align: right;\n",
              "    }\n",
              "</style>\n",
              "<table border=\"1\" class=\"dataframe\">\n",
              "  <thead>\n",
              "    <tr style=\"text-align: right;\">\n",
              "      <th></th>\n",
              "      <th>enrolldt</th>\n",
              "      <th>price</th>\n",
              "      <th>downpmt</th>\n",
              "      <th>monthdue</th>\n",
              "      <th>pmttype</th>\n",
              "      <th>use</th>\n",
              "      <th>age</th>\n",
              "      <th>gender</th>\n",
              "      <th>default</th>\n",
              "    </tr>\n",
              "  </thead>\n",
              "  <tbody>\n",
              "    <tr>\n",
              "      <th>0</th>\n",
              "      <td>1997</td>\n",
              "      <td>2178.85</td>\n",
              "      <td>250.00</td>\n",
              "      <td>6.0</td>\n",
              "      <td>4</td>\n",
              "      <td>1</td>\n",
              "      <td>0</td>\n",
              "      <td>2</td>\n",
              "      <td>0</td>\n",
              "    </tr>\n",
              "    <tr>\n",
              "      <th>1</th>\n",
              "      <td>1997</td>\n",
              "      <td>1543.65</td>\n",
              "      <td>1543.65</td>\n",
              "      <td>6.0</td>\n",
              "      <td>1</td>\n",
              "      <td>0</td>\n",
              "      <td>0</td>\n",
              "      <td>2</td>\n",
              "      <td>0</td>\n",
              "    </tr>\n",
              "    <tr>\n",
              "      <th>2</th>\n",
              "      <td>1997</td>\n",
              "      <td>1107.67</td>\n",
              "      <td>125.00</td>\n",
              "      <td>5.0</td>\n",
              "      <td>1</td>\n",
              "      <td>0</td>\n",
              "      <td>0</td>\n",
              "      <td>2</td>\n",
              "      <td>0</td>\n",
              "    </tr>\n",
              "    <tr>\n",
              "      <th>3</th>\n",
              "      <td>1997</td>\n",
              "      <td>950.44</td>\n",
              "      <td>237.61</td>\n",
              "      <td>9.0</td>\n",
              "      <td>5</td>\n",
              "      <td>0</td>\n",
              "      <td>0</td>\n",
              "      <td>1</td>\n",
              "      <td>0</td>\n",
              "    </tr>\n",
              "    <tr>\n",
              "      <th>4</th>\n",
              "      <td>1997</td>\n",
              "      <td>1436.00</td>\n",
              "      <td>250.00</td>\n",
              "      <td>9.0</td>\n",
              "      <td>3</td>\n",
              "      <td>0</td>\n",
              "      <td>0</td>\n",
              "      <td>2</td>\n",
              "      <td>0</td>\n",
              "    </tr>\n",
              "  </tbody>\n",
              "</table>\n",
              "</div>\n",
              "      <button class=\"colab-df-convert\" onclick=\"convertToInteractive('df-a2b9e818-66d5-431f-b023-5ac6c537655c')\"\n",
              "              title=\"Convert this dataframe to an interactive table.\"\n",
              "              style=\"display:none;\">\n",
              "        \n",
              "  <svg xmlns=\"http://www.w3.org/2000/svg\" height=\"24px\"viewBox=\"0 0 24 24\"\n",
              "       width=\"24px\">\n",
              "    <path d=\"M0 0h24v24H0V0z\" fill=\"none\"/>\n",
              "    <path d=\"M18.56 5.44l.94 2.06.94-2.06 2.06-.94-2.06-.94-.94-2.06-.94 2.06-2.06.94zm-11 1L8.5 8.5l.94-2.06 2.06-.94-2.06-.94L8.5 2.5l-.94 2.06-2.06.94zm10 10l.94 2.06.94-2.06 2.06-.94-2.06-.94-.94-2.06-.94 2.06-2.06.94z\"/><path d=\"M17.41 7.96l-1.37-1.37c-.4-.4-.92-.59-1.43-.59-.52 0-1.04.2-1.43.59L10.3 9.45l-7.72 7.72c-.78.78-.78 2.05 0 2.83L4 21.41c.39.39.9.59 1.41.59.51 0 1.02-.2 1.41-.59l7.78-7.78 2.81-2.81c.8-.78.8-2.07 0-2.86zM5.41 20L4 18.59l7.72-7.72 1.47 1.35L5.41 20z\"/>\n",
              "  </svg>\n",
              "      </button>\n",
              "      \n",
              "  <style>\n",
              "    .colab-df-container {\n",
              "      display:flex;\n",
              "      flex-wrap:wrap;\n",
              "      gap: 12px;\n",
              "    }\n",
              "\n",
              "    .colab-df-convert {\n",
              "      background-color: #E8F0FE;\n",
              "      border: none;\n",
              "      border-radius: 50%;\n",
              "      cursor: pointer;\n",
              "      display: none;\n",
              "      fill: #1967D2;\n",
              "      height: 32px;\n",
              "      padding: 0 0 0 0;\n",
              "      width: 32px;\n",
              "    }\n",
              "\n",
              "    .colab-df-convert:hover {\n",
              "      background-color: #E2EBFA;\n",
              "      box-shadow: 0px 1px 2px rgba(60, 64, 67, 0.3), 0px 1px 3px 1px rgba(60, 64, 67, 0.15);\n",
              "      fill: #174EA6;\n",
              "    }\n",
              "\n",
              "    [theme=dark] .colab-df-convert {\n",
              "      background-color: #3B4455;\n",
              "      fill: #D2E3FC;\n",
              "    }\n",
              "\n",
              "    [theme=dark] .colab-df-convert:hover {\n",
              "      background-color: #434B5C;\n",
              "      box-shadow: 0px 1px 3px 1px rgba(0, 0, 0, 0.15);\n",
              "      filter: drop-shadow(0px 1px 2px rgba(0, 0, 0, 0.3));\n",
              "      fill: #FFFFFF;\n",
              "    }\n",
              "  </style>\n",
              "\n",
              "      <script>\n",
              "        const buttonEl =\n",
              "          document.querySelector('#df-a2b9e818-66d5-431f-b023-5ac6c537655c button.colab-df-convert');\n",
              "        buttonEl.style.display =\n",
              "          google.colab.kernel.accessAllowed ? 'block' : 'none';\n",
              "\n",
              "        async function convertToInteractive(key) {\n",
              "          const element = document.querySelector('#df-a2b9e818-66d5-431f-b023-5ac6c537655c');\n",
              "          const dataTable =\n",
              "            await google.colab.kernel.invokeFunction('convertToInteractive',\n",
              "                                                     [key], {});\n",
              "          if (!dataTable) return;\n",
              "\n",
              "          const docLinkHtml = 'Like what you see? Visit the ' +\n",
              "            '<a target=\"_blank\" href=https://colab.research.google.com/notebooks/data_table.ipynb>data table notebook</a>'\n",
              "            + ' to learn more about interactive tables.';\n",
              "          element.innerHTML = '';\n",
              "          dataTable['output_type'] = 'display_data';\n",
              "          await google.colab.output.renderOutput(dataTable, element);\n",
              "          const docLink = document.createElement('div');\n",
              "          docLink.innerHTML = docLinkHtml;\n",
              "          element.appendChild(docLink);\n",
              "        }\n",
              "      </script>\n",
              "    </div>\n",
              "  </div>\n",
              "  "
            ],
            "text/plain": [
              "   enrolldt    price  downpmt  monthdue  pmttype  use  age  gender  default\n",
              "0      1997  2178.85   250.00       6.0        4    1    0       2        0\n",
              "1      1997  1543.65  1543.65       6.0        1    0    0       2        0\n",
              "2      1997  1107.67   125.00       5.0        1    0    0       2        0\n",
              "3      1997   950.44   237.61       9.0        5    0    0       1        0\n",
              "4      1997  1436.00   250.00       9.0        3    0    0       2        0"
            ]
          },
          "metadata": {},
          "execution_count": 10
        }
      ],
      "source": [
        "# convert the enrollment date to year format\n",
        "df['enrolldt'] = df.enrolldt.astype(str).str[:4]\n",
        "df['enrolldt'] = pd.DatetimeIndex(pd.to_datetime(df['enrolldt'])).year\n",
        "df.head()"
      ]
    },
    {
      "cell_type": "code",
      "execution_count": null,
      "metadata": {
        "colab": {
          "base_uri": "https://localhost:8080/",
          "height": 405
        },
        "id": "mVliegb69Mxe",
        "outputId": "324aef96-ac30-4dcd-ef60-7bddcf0788b8"
      },
      "outputs": [
        {
          "output_type": "execute_result",
          "data": {
            "text/plain": [
              "Text(0, 0.5, 'count')"
            ]
          },
          "metadata": {},
          "execution_count": 11
        },
        {
          "output_type": "display_data",
          "data": {
            "image/png": "[encoded data removed]",
            "text/plain": [
              "<Figure size 432x432 with 1 Axes>"
            ]
          },
          "metadata": {
            "needs_background": "light"
          }
        }
      ],
      "source": [
        "# check the distribution of the year\n",
        "plt.figure(figsize = (6, 6))\n",
        "sns.countplot(df['enrolldt'])\n",
        "plt.xlabel('Year')\n",
        "plt.ylabel('count')"
      ]
    },
    {
      "cell_type": "code",
      "execution_count": null,
      "metadata": {
        "colab": {
          "base_uri": "https://localhost:8080/",
          "height": 405
        },
        "id": "mt9ImdBz-vbj",
        "outputId": "de1762c6-c11b-4a4a-8972-f04b0ceb77db"
      },
      "outputs": [
        {
          "output_type": "execute_result",
          "data": {
            "text/plain": [
              "Text(0, 0.5, 'Count')"
            ]
          },
          "metadata": {},
          "execution_count": 12
        },
        {
          "output_type": "display_data",
          "data": {
            "image/png": "[encoded data removed]",
            "text/plain": [
              "<Figure size 720x432 with 1 Axes>"
            ]
          },
          "metadata": {
            "needs_background": "light"
          }
        }
      ],
      "source": [
        "# check the distribution of the price\n",
        "plt.figure(figsize = (10, 6))\n",
        "sns.histplot(data = df, x = 'price', kde = True)\n",
        "plt.xlabel('Price')\n",
        "plt.ylabel('Count')"
      ]
    },
    {
      "cell_type": "code",
      "execution_count": null,
      "metadata": {
        "id": "ls1Dqfww_gE9"
      },
      "outputs": [],
      "source": [
        "# check the extreme values in the price column\n",
        "values = df[(df['price'] == 0) | (df['price'] > 4000)]['price'].unique()"
      ]
    },
    {
      "cell_type": "code",
      "execution_count": null,
      "metadata": {
        "colab": {
          "base_uri": "https://localhost:8080/"
        },
        "id": "Vat4EMajBMU6",
        "outputId": "e8af20cb-981b-4541-c1e2-b33e3e8723f2"
      },
      "outputs": [
        {
          "output_type": "execute_result",
          "data": {
            "text/plain": [
              "count    24843.000000\n",
              "mean      1003.942182\n",
              "std        417.432586\n",
              "min          0.010000\n",
              "25%        699.000000\n",
              "50%        999.000000\n",
              "75%       1248.680000\n",
              "max       3893.750000\n",
              "Name: price, dtype: float64"
            ]
          },
          "metadata": {},
          "execution_count": 14
        }
      ],
      "source": [
        "# replace the extreme values for price with median\n",
        "df['price'] = df['price'].replace(values, df['price'].median())\n",
        "df['price'].describe()"
      ]
    },
    {
      "cell_type": "code",
      "execution_count": null,
      "metadata": {
        "colab": {
          "base_uri": "https://localhost:8080/",
          "height": 405
        },
        "id": "RRpqe0-oCPy_",
        "outputId": "61ea2a0b-e583-4321-ac46-1ab0c7d95835"
      },
      "outputs": [
        {
          "output_type": "execute_result",
          "data": {
            "text/plain": [
              "Text(0, 0.5, 'Count')"
            ]
          },
          "metadata": {},
          "execution_count": 15
        },
        {
          "output_type": "display_data",
          "data": {
            "image/png": "[encoded data removed]",
            "text/plain": [
              "<Figure size 720x432 with 1 Axes>"
            ]
          },
          "metadata": {
            "needs_background": "light"
          }
        }
      ],
      "source": [
        "# check the distribution for downpmt\n",
        "plt.figure(figsize = (10, 6))\n",
        "sns.histplot(data = df, x = 'downpmt', kde = True)\n",
        "plt.xlabel('Downpmt')\n",
        "plt.ylabel('Count')"
      ]
    },
    {
      "cell_type": "code",
      "execution_count": null,
      "metadata": {
        "id": "DVg0yrulC8fO"
      },
      "outputs": [],
      "source": [
        "# check the extreme values in the downpmt column\n",
        "values = df[df['downpmt'] > 2000]['downpmt'].unique()"
      ]
    },
    {
      "cell_type": "code",
      "execution_count": null,
      "metadata": {
        "colab": {
          "base_uri": "https://localhost:8080/"
        },
        "id": "uaMzQ1SPC8cS",
        "outputId": "8b6fcb0a-f776-4430-8898-f4d91287cc40"
      },
      "outputs": [
        {
          "output_type": "execute_result",
          "data": {
            "text/plain": [
              "count    24843.000000\n",
              "mean       190.741205\n",
              "std        281.902136\n",
              "min          0.000000\n",
              "25%         49.000000\n",
              "50%        100.000000\n",
              "75%        175.000000\n",
              "max       1990.990000\n",
              "Name: downpmt, dtype: float64"
            ]
          },
          "metadata": {},
          "execution_count": 17
        }
      ],
      "source": [
        "# replace extreme values for downpmt with median\n",
        "df['downpmt'] = df['downpmt'].replace(values, df['downpmt'].median())\n",
        "df['downpmt'].describe()"
      ]
    },
    {
      "cell_type": "code",
      "execution_count": null,
      "metadata": {
        "colab": {
          "base_uri": "https://localhost:8080/",
          "height": 405
        },
        "id": "lrigyJTBC8Zd",
        "outputId": "90355e0b-4eed-42f1-e56e-c26ced45d2e9"
      },
      "outputs": [
        {
          "output_type": "execute_result",
          "data": {
            "text/plain": [
              "Text(0, 0.5, 'count')"
            ]
          },
          "metadata": {},
          "execution_count": 18
        },
        {
          "output_type": "display_data",
          "data": {
            "image/png": "[encoded data removed]",
            "text/plain": [
              "<Figure size 720x432 with 1 Axes>"
            ]
          },
          "metadata": {
            "needs_background": "light"
          }
        }
      ],
      "source": [
        "# check the distribution for month_due\n",
        "plt.figure(figsize = (10, 6))\n",
        "sns.histplot(data = df, x = 'monthdue', kde = True)\n",
        "plt.xlabel('monthdue')\n",
        "plt.ylabel('count')"
      ]
    },
    {
      "cell_type": "code",
      "execution_count": null,
      "metadata": {
        "colab": {
          "base_uri": "https://localhost:8080/"
        },
        "id": "XMrrUiZHMwAU",
        "outputId": "a7b0e94d-7622-4f7f-81aa-af38d6f844f8"
      },
      "outputs": [
        {
          "output_type": "execute_result",
          "data": {
            "text/plain": [
              "array([ 96.  , 108.  , 120.  ,  62.1 , 111.  ,  74.66,  80.76,  81.51,\n",
              "        64.  ,  71.75,  60.58,  66.56,  63.  ,  62.85,  69.  ,  69.57,\n",
              "        91.46, 111.96])"
            ]
          },
          "metadata": {},
          "execution_count": 19
        }
      ],
      "source": [
        "# check the extreme values in the monthdue column\n",
        "values = df[df['monthdue'] > 60]['monthdue'].unique()\n",
        "values"
      ]
    },
    {
      "cell_type": "code",
      "execution_count": null,
      "metadata": {
        "colab": {
          "base_uri": "https://localhost:8080/"
        },
        "id": "R7Lhn7IyMv9a",
        "outputId": "342b7f9d-4b78-41b5-a434-f472d79b1ac6"
      },
      "outputs": [
        {
          "output_type": "execute_result",
          "data": {
            "text/plain": [
              "count    24843.000000\n",
              "mean         8.063231\n",
              "std          5.635536\n",
              "min          0.000000\n",
              "25%          5.500000\n",
              "50%          6.000000\n",
              "75%          9.000000\n",
              "max         59.350000\n",
              "Name: monthdue, dtype: float64"
            ]
          },
          "metadata": {},
          "execution_count": 20
        }
      ],
      "source": [
        "# replace the extreme values for monthdue with median\n",
        "df['monthdue'] = df['monthdue'].replace(values, df['monthdue'].median())\n",
        "df['monthdue'].describe()"
      ]
    },
    {
      "cell_type": "code",
      "execution_count": null,
      "metadata": {
        "colab": {
          "base_uri": "https://localhost:8080/",
          "height": 405
        },
        "id": "hsscxBd5Mv6W",
        "outputId": "045e0449-c118-4250-b3d3-047fcb041e05"
      },
      "outputs": [
        {
          "output_type": "execute_result",
          "data": {
            "text/plain": [
              "Text(0, 0.5, 'Count')"
            ]
          },
          "metadata": {},
          "execution_count": 21
        },
        {
          "output_type": "display_data",
          "data": {
            "image/png": "[encoded data removed]",
            "text/plain": [
              "<Figure size 720x432 with 1 Axes>"
            ]
          },
          "metadata": {
            "needs_background": "light"
          }
        }
      ],
      "source": [
        "# check the distribution for age\n",
        "plt.figure(figsize = (10, 6))\n",
        "sns.histplot(data = df, x = 'age', kde = True)\n",
        "plt.xlabel('Age')\n",
        "plt.ylabel('Count')"
      ]
    },
    {
      "cell_type": "markdown",
      "metadata": {
        "id": "2hNAxoCpPT4k"
      },
      "source": [
        "In our assumption, young children under 13 are not eligible for gym membership because they do not have stable income.\n",
        "\n",
        "In addition, people over 80 years old are eliminated because they are less likely being a gym member."
      ]
    },
    {
      "cell_type": "code",
      "execution_count": null,
      "metadata": {
        "colab": {
          "base_uri": "https://localhost:8080/"
        },
        "id": "yX1F06GQC8V-",
        "outputId": "87a90c08-b561-47d1-d22e-1f57cfda5eef"
      },
      "outputs": [
        {
          "output_type": "execute_result",
          "data": {
            "text/plain": [
              "array([ 0,  1,  2,  3,  4,  9, 10, 13, 99])"
            ]
          },
          "metadata": {},
          "execution_count": 22
        }
      ],
      "source": [
        "# check the extrem values in the age column\n",
        "values = df[(df['age'] <= 13) | (df['age'] > 80)]['age'].unique()\n",
        "values"
      ]
    },
    {
      "cell_type": "code",
      "execution_count": null,
      "metadata": {
        "colab": {
          "base_uri": "https://localhost:8080/"
        },
        "id": "aMVitHKjC8GH",
        "outputId": "9ef12022-41ab-43fa-c433-babe4cfd6175"
      },
      "outputs": [
        {
          "output_type": "execute_result",
          "data": {
            "text/plain": [
              "count    24843.000000\n",
              "mean        31.279797\n",
              "std         10.274656\n",
              "min         14.000000\n",
              "25%         24.000000\n",
              "50%         28.000000\n",
              "75%         36.000000\n",
              "max         79.000000\n",
              "Name: age, dtype: float64"
            ]
          },
          "metadata": {},
          "execution_count": 23
        }
      ],
      "source": [
        "# replace unrealistic age with median\n",
        "df['age'] = df['age'].replace(values, df['age'].median())\n",
        "df['age'].describe()"
      ]
    },
    {
      "cell_type": "code",
      "execution_count": null,
      "metadata": {
        "colab": {
          "base_uri": "https://localhost:8080/",
          "height": 300
        },
        "id": "C3ZRvIsv9RWz",
        "outputId": "80a20473-4af2-46c5-dcaa-99ce6f6147cb"
      },
      "outputs": [
        {
          "output_type": "execute_result",
          "data": {
            "text/html": [
              "\n",
              "  <div id=\"df-d511877e-06be-43e6-b565-144c32b0b9be\">\n",
              "    <div class=\"colab-df-container\">\n",
              "      <div>\n",
              "<style scoped>\n",
              "    .dataframe tbody tr th:only-of-type {\n",
              "        vertical-align: middle;\n",
              "    }\n",
              "\n",
              "    .dataframe tbody tr th {\n",
              "        vertical-align: top;\n",
              "    }\n",
              "\n",
              "    .dataframe thead th {\n",
              "        text-align: right;\n",
              "    }\n",
              "</style>\n",
              "<table border=\"1\" class=\"dataframe\">\n",
              "  <thead>\n",
              "    <tr style=\"text-align: right;\">\n",
              "      <th></th>\n",
              "      <th>enrolldt</th>\n",
              "      <th>price</th>\n",
              "      <th>downpmt</th>\n",
              "      <th>monthdue</th>\n",
              "      <th>pmttype</th>\n",
              "      <th>use</th>\n",
              "      <th>age</th>\n",
              "      <th>gender</th>\n",
              "      <th>default</th>\n",
              "    </tr>\n",
              "  </thead>\n",
              "  <tbody>\n",
              "    <tr>\n",
              "      <th>count</th>\n",
              "      <td>24843.000000</td>\n",
              "      <td>24843.000000</td>\n",
              "      <td>24843.000000</td>\n",
              "      <td>24843.000000</td>\n",
              "      <td>24843.000000</td>\n",
              "      <td>24843.000000</td>\n",
              "      <td>24843.000000</td>\n",
              "      <td>24843.000000</td>\n",
              "      <td>24843.000000</td>\n",
              "    </tr>\n",
              "    <tr>\n",
              "      <th>mean</th>\n",
              "      <td>1997.800547</td>\n",
              "      <td>1003.942182</td>\n",
              "      <td>190.741205</td>\n",
              "      <td>8.063231</td>\n",
              "      <td>3.093225</td>\n",
              "      <td>1.944371</td>\n",
              "      <td>31.279797</td>\n",
              "      <td>1.498007</td>\n",
              "      <td>0.115042</td>\n",
              "    </tr>\n",
              "    <tr>\n",
              "      <th>std</th>\n",
              "      <td>0.746802</td>\n",
              "      <td>417.432586</td>\n",
              "      <td>281.902136</td>\n",
              "      <td>5.635536</td>\n",
              "      <td>1.560034</td>\n",
              "      <td>2.315550</td>\n",
              "      <td>10.274656</td>\n",
              "      <td>0.500006</td>\n",
              "      <td>0.319080</td>\n",
              "    </tr>\n",
              "    <tr>\n",
              "      <th>min</th>\n",
              "      <td>1997.000000</td>\n",
              "      <td>0.010000</td>\n",
              "      <td>0.000000</td>\n",
              "      <td>0.000000</td>\n",
              "      <td>1.000000</td>\n",
              "      <td>0.000000</td>\n",
              "      <td>14.000000</td>\n",
              "      <td>1.000000</td>\n",
              "      <td>0.000000</td>\n",
              "    </tr>\n",
              "    <tr>\n",
              "      <th>25%</th>\n",
              "      <td>1997.000000</td>\n",
              "      <td>699.000000</td>\n",
              "      <td>49.000000</td>\n",
              "      <td>5.500000</td>\n",
              "      <td>1.000000</td>\n",
              "      <td>0.000000</td>\n",
              "      <td>24.000000</td>\n",
              "      <td>1.000000</td>\n",
              "      <td>0.000000</td>\n",
              "    </tr>\n",
              "    <tr>\n",
              "      <th>50%</th>\n",
              "      <td>1998.000000</td>\n",
              "      <td>999.000000</td>\n",
              "      <td>100.000000</td>\n",
              "      <td>6.000000</td>\n",
              "      <td>3.000000</td>\n",
              "      <td>1.000000</td>\n",
              "      <td>28.000000</td>\n",
              "      <td>1.000000</td>\n",
              "      <td>0.000000</td>\n",
              "    </tr>\n",
              "    <tr>\n",
              "      <th>75%</th>\n",
              "      <td>1998.000000</td>\n",
              "      <td>1248.680000</td>\n",
              "      <td>175.000000</td>\n",
              "      <td>9.000000</td>\n",
              "      <td>4.000000</td>\n",
              "      <td>3.000000</td>\n",
              "      <td>36.000000</td>\n",
              "      <td>2.000000</td>\n",
              "      <td>0.000000</td>\n",
              "    </tr>\n",
              "    <tr>\n",
              "      <th>max</th>\n",
              "      <td>1999.000000</td>\n",
              "      <td>3893.750000</td>\n",
              "      <td>1990.990000</td>\n",
              "      <td>59.350000</td>\n",
              "      <td>5.000000</td>\n",
              "      <td>8.000000</td>\n",
              "      <td>79.000000</td>\n",
              "      <td>2.000000</td>\n",
              "      <td>1.000000</td>\n",
              "    </tr>\n",
              "  </tbody>\n",
              "</table>\n",
              "</div>\n",
              "      <button class=\"colab-df-convert\" onclick=\"convertToInteractive('df-d511877e-06be-43e6-b565-144c32b0b9be')\"\n",
              "              title=\"Convert this dataframe to an interactive table.\"\n",
              "              style=\"display:none;\">\n",
              "        \n",
              "  <svg xmlns=\"http://www.w3.org/2000/svg\" height=\"24px\"viewBox=\"0 0 24 24\"\n",
              "       width=\"24px\">\n",
              "    <path d=\"M0 0h24v24H0V0z\" fill=\"none\"/>\n",
              "    <path d=\"M18.56 5.44l.94 2.06.94-2.06 2.06-.94-2.06-.94-.94-2.06-.94 2.06-2.06.94zm-11 1L8.5 8.5l.94-2.06 2.06-.94-2.06-.94L8.5 2.5l-.94 2.06-2.06.94zm10 10l.94 2.06.94-2.06 2.06-.94-2.06-.94-.94-2.06-.94 2.06-2.06.94z\"/><path d=\"M17.41 7.96l-1.37-1.37c-.4-.4-.92-.59-1.43-.59-.52 0-1.04.2-1.43.59L10.3 9.45l-7.72 7.72c-.78.78-.78 2.05 0 2.83L4 21.41c.39.39.9.59 1.41.59.51 0 1.02-.2 1.41-.59l7.78-7.78 2.81-2.81c.8-.78.8-2.07 0-2.86zM5.41 20L4 18.59l7.72-7.72 1.47 1.35L5.41 20z\"/>\n",
              "  </svg>\n",
              "      </button>\n",
              "      \n",
              "  <style>\n",
              "    .colab-df-container {\n",
              "      display:flex;\n",
              "      flex-wrap:wrap;\n",
              "      gap: 12px;\n",
              "    }\n",
              "\n",
              "    .colab-df-convert {\n",
              "      background-color: #E8F0FE;\n",
              "      border: none;\n",
              "      border-radius: 50%;\n",
              "      cursor: pointer;\n",
              "      display: none;\n",
              "      fill: #1967D2;\n",
              "      height: 32px;\n",
              "      padding: 0 0 0 0;\n",
              "      width: 32px;\n",
              "    }\n",
              "\n",
              "    .colab-df-convert:hover {\n",
              "      background-color: #E2EBFA;\n",
              "      box-shadow: 0px 1px 2px rgba(60, 64, 67, 0.3), 0px 1px 3px 1px rgba(60, 64, 67, 0.15);\n",
              "      fill: #174EA6;\n",
              "    }\n",
              "\n",
              "    [theme=dark] .colab-df-convert {\n",
              "      background-color: #3B4455;\n",
              "      fill: #D2E3FC;\n",
              "    }\n",
              "\n",
              "    [theme=dark] .colab-df-convert:hover {\n",
              "      background-color: #434B5C;\n",
              "      box-shadow: 0px 1px 3px 1px rgba(0, 0, 0, 0.15);\n",
              "      filter: drop-shadow(0px 1px 2px rgba(0, 0, 0, 0.3));\n",
              "      fill: #FFFFFF;\n",
              "    }\n",
              "  </style>\n",
              "\n",
              "      <script>\n",
              "        const buttonEl =\n",
              "          document.querySelector('#df-d511877e-06be-43e6-b565-144c32b0b9be button.colab-df-convert');\n",
              "        buttonEl.style.display =\n",
              "          google.colab.kernel.accessAllowed ? 'block' : 'none';\n",
              "\n",
              "        async function convertToInteractive(key) {\n",
              "          const element = document.querySelector('#df-d511877e-06be-43e6-b565-144c32b0b9be');\n",
              "          const dataTable =\n",
              "            await google.colab.kernel.invokeFunction('convertToInteractive',\n",
              "                                                     [key], {});\n",
              "          if (!dataTable) return;\n",
              "\n",
              "          const docLinkHtml = 'Like what you see? Visit the ' +\n",
              "            '<a target=\"_blank\" href=https://colab.research.google.com/notebooks/data_table.ipynb>data table notebook</a>'\n",
              "            + ' to learn more about interactive tables.';\n",
              "          element.innerHTML = '';\n",
              "          dataTable['output_type'] = 'display_data';\n",
              "          await google.colab.output.renderOutput(dataTable, element);\n",
              "          const docLink = document.createElement('div');\n",
              "          docLink.innerHTML = docLinkHtml;\n",
              "          element.appendChild(docLink);\n",
              "        }\n",
              "      </script>\n",
              "    </div>\n",
              "  </div>\n",
              "  "
            ],
            "text/plain": [
              "           enrolldt         price  ...        gender       default\n",
              "count  24843.000000  24843.000000  ...  24843.000000  24843.000000\n",
              "mean    1997.800547   1003.942182  ...      1.498007      0.115042\n",
              "std        0.746802    417.432586  ...      0.500006      0.319080\n",
              "min     1997.000000      0.010000  ...      1.000000      0.000000\n",
              "25%     1997.000000    699.000000  ...      1.000000      0.000000\n",
              "50%     1998.000000    999.000000  ...      1.000000      0.000000\n",
              "75%     1998.000000   1248.680000  ...      2.000000      0.000000\n",
              "max     1999.000000   3893.750000  ...      2.000000      1.000000\n",
              "\n",
              "[8 rows x 9 columns]"
            ]
          },
          "metadata": {},
          "execution_count": 24
        }
      ],
      "source": [
        "df.describe()"
      ]
    },
    {
      "cell_type": "markdown",
      "metadata": {
        "id": "_qjGPQtsXtE5"
      },
      "source": [
        "# 5. Exploratory Data Analysis"
      ]
    },
    {
      "cell_type": "code",
      "execution_count": null,
      "metadata": {
        "colab": {
          "base_uri": "https://localhost:8080/",
          "height": 421
        },
        "id": "P6K7lljG9qqz",
        "outputId": "5cbcc339-a037-49e3-8db3-844b254ec3e9"
      },
      "outputs": [
        {
          "output_type": "execute_result",
          "data": {
            "text/plain": [
              "Text(0.5, 1.0, 'count by default')"
            ]
          },
          "metadata": {},
          "execution_count": 25
        },
        {
          "output_type": "display_data",
          "data": {
            "image/png": "[encoded data removed]",
            "text/plain": [
              "<Figure size 432x432 with 1 Axes>"
            ]
          },
          "metadata": {
            "needs_background": "light"
          }
        }
      ],
      "source": [
        "# 1. Count how many people default\n",
        "plt.figure(figsize = (6, 6))\n",
        "sns.countplot(df['default'])\n",
        "plt.xlabel('default')\n",
        "plt.ylabel('count')\n",
        "plt.title('count by default')"
      ]
    },
    {
      "cell_type": "markdown",
      "metadata": {
        "id": "p0QrXDqOAPtm"
      },
      "source": [
        "From the plot, the majority of the customers will not default."
      ]
    },
    {
      "cell_type": "code",
      "execution_count": null,
      "metadata": {
        "colab": {
          "base_uri": "https://localhost:8080/"
        },
        "id": "FkZpNXud9qno",
        "outputId": "77a6fe81-0420-48df-ad94-e530ff763668"
      },
      "outputs": [
        {
          "output_type": "execute_result",
          "data": {
            "text/plain": [
              "0    21985\n",
              "1     2858\n",
              "Name: default, dtype: int64"
            ]
          },
          "metadata": {},
          "execution_count": 26
        }
      ],
      "source": [
        "df['default'].value_counts()"
      ]
    },
    {
      "cell_type": "code",
      "execution_count": null,
      "metadata": {
        "colab": {
          "base_uri": "https://localhost:8080/",
          "height": 421
        },
        "id": "1_ZkJ81a9qia",
        "outputId": "9218ab92-bce6-4add-8565-3668c5bf7ae9"
      },
      "outputs": [
        {
          "output_type": "execute_result",
          "data": {
            "text/plain": [
              "Text(0.5, 1.0, 'default count by enrollment date')"
            ]
          },
          "metadata": {},
          "execution_count": 27
        },
        {
          "output_type": "display_data",
          "data": {
            "image/png": "[encoded data removed]",
            "text/plain": [
              "<Figure size 720x432 with 1 Axes>"
            ]
          },
          "metadata": {
            "needs_background": "light"
          }
        }
      ],
      "source": [
        "# 2. check default by enrollment date\n",
        "plt.figure(figsize = (10, 6))\n",
        "sns.countplot(data = df, x = 'enrolldt', hue = 'default')\n",
        "plt.xlabel('enrollment date')\n",
        "plt.ylabel('count')\n",
        "plt.title(\"default count by enrollment date\")"
      ]
    },
    {
      "cell_type": "code",
      "execution_count": null,
      "metadata": {
        "colab": {
          "base_uri": "https://localhost:8080/",
          "height": 175
        },
        "id": "ApnJb5U2FFtH",
        "outputId": "dedfc6f7-eb97-46c3-949b-2dff4ee586fb"
      },
      "outputs": [
        {
          "output_type": "execute_result",
          "data": {
            "text/html": [
              "\n",
              "  <div id=\"df-7ca60b33-d60b-4f48-843b-2f7cd1154a9b\">\n",
              "    <div class=\"colab-df-container\">\n",
              "      <div>\n",
              "<style scoped>\n",
              "    .dataframe tbody tr th:only-of-type {\n",
              "        vertical-align: middle;\n",
              "    }\n",
              "\n",
              "    .dataframe tbody tr th {\n",
              "        vertical-align: top;\n",
              "    }\n",
              "\n",
              "    .dataframe thead th {\n",
              "        text-align: right;\n",
              "    }\n",
              "</style>\n",
              "<table border=\"1\" class=\"dataframe\">\n",
              "  <thead>\n",
              "    <tr style=\"text-align: right;\">\n",
              "      <th></th>\n",
              "      <th>default</th>\n",
              "    </tr>\n",
              "    <tr>\n",
              "      <th>enrolldt</th>\n",
              "      <th></th>\n",
              "    </tr>\n",
              "  </thead>\n",
              "  <tbody>\n",
              "    <tr>\n",
              "      <th>1997</th>\n",
              "      <td>0.138499</td>\n",
              "    </tr>\n",
              "    <tr>\n",
              "      <th>1998</th>\n",
              "      <td>0.119100</td>\n",
              "    </tr>\n",
              "    <tr>\n",
              "      <th>1999</th>\n",
              "      <td>0.059871</td>\n",
              "    </tr>\n",
              "  </tbody>\n",
              "</table>\n",
              "</div>\n",
              "      <button class=\"colab-df-convert\" onclick=\"convertToInteractive('df-7ca60b33-d60b-4f48-843b-2f7cd1154a9b')\"\n",
              "              title=\"Convert this dataframe to an interactive table.\"\n",
              "              style=\"display:none;\">\n",
              "        \n",
              "  <svg xmlns=\"http://www.w3.org/2000/svg\" height=\"24px\"viewBox=\"0 0 24 24\"\n",
              "       width=\"24px\">\n",
              "    <path d=\"M0 0h24v24H0V0z\" fill=\"none\"/>\n",
              "    <path d=\"M18.56 5.44l.94 2.06.94-2.06 2.06-.94-2.06-.94-.94-2.06-.94 2.06-2.06.94zm-11 1L8.5 8.5l.94-2.06 2.06-.94-2.06-.94L8.5 2.5l-.94 2.06-2.06.94zm10 10l.94 2.06.94-2.06 2.06-.94-2.06-.94-.94-2.06-.94 2.06-2.06.94z\"/><path d=\"M17.41 7.96l-1.37-1.37c-.4-.4-.92-.59-1.43-.59-.52 0-1.04.2-1.43.59L10.3 9.45l-7.72 7.72c-.78.78-.78 2.05 0 2.83L4 21.41c.39.39.9.59 1.41.59.51 0 1.02-.2 1.41-.59l7.78-7.78 2.81-2.81c.8-.78.8-2.07 0-2.86zM5.41 20L4 18.59l7.72-7.72 1.47 1.35L5.41 20z\"/>\n",
              "  </svg>\n",
              "      </button>\n",
              "      \n",
              "  <style>\n",
              "    .colab-df-container {\n",
              "      display:flex;\n",
              "      flex-wrap:wrap;\n",
              "      gap: 12px;\n",
              "    }\n",
              "\n",
              "    .colab-df-convert {\n",
              "      background-color: #E8F0FE;\n",
              "      border: none;\n",
              "      border-radius: 50%;\n",
              "      cursor: pointer;\n",
              "      display: none;\n",
              "      fill: #1967D2;\n",
              "      height: 32px;\n",
              "      padding: 0 0 0 0;\n",
              "      width: 32px;\n",
              "    }\n",
              "\n",
              "    .colab-df-convert:hover {\n",
              "      background-color: #E2EBFA;\n",
              "      box-shadow: 0px 1px 2px rgba(60, 64, 67, 0.3), 0px 1px 3px 1px rgba(60, 64, 67, 0.15);\n",
              "      fill: #174EA6;\n",
              "    }\n",
              "\n",
              "    [theme=dark] .colab-df-convert {\n",
              "      background-color: #3B4455;\n",
              "      fill: #D2E3FC;\n",
              "    }\n",
              "\n",
              "    [theme=dark] .colab-df-convert:hover {\n",
              "      background-color: #434B5C;\n",
              "      box-shadow: 0px 1px 3px 1px rgba(0, 0, 0, 0.15);\n",
              "      filter: drop-shadow(0px 1px 2px rgba(0, 0, 0, 0.3));\n",
              "      fill: #FFFFFF;\n",
              "    }\n",
              "  </style>\n",
              "\n",
              "      <script>\n",
              "        const buttonEl =\n",
              "          document.querySelector('#df-7ca60b33-d60b-4f48-843b-2f7cd1154a9b button.colab-df-convert');\n",
              "        buttonEl.style.display =\n",
              "          google.colab.kernel.accessAllowed ? 'block' : 'none';\n",
              "\n",
              "        async function convertToInteractive(key) {\n",
              "          const element = document.querySelector('#df-7ca60b33-d60b-4f48-843b-2f7cd1154a9b');\n",
              "          const dataTable =\n",
              "            await google.colab.kernel.invokeFunction('convertToInteractive',\n",
              "                                                     [key], {});\n",
              "          if (!dataTable) return;\n",
              "\n",
              "          const docLinkHtml = 'Like what you see? Visit the ' +\n",
              "            '<a target=\"_blank\" href=https://colab.research.google.com/notebooks/data_table.ipynb>data table notebook</a>'\n",
              "            + ' to learn more about interactive tables.';\n",
              "          element.innerHTML = '';\n",
              "          dataTable['output_type'] = 'display_data';\n",
              "          await google.colab.output.renderOutput(dataTable, element);\n",
              "          const docLink = document.createElement('div');\n",
              "          docLink.innerHTML = docLinkHtml;\n",
              "          element.appendChild(docLink);\n",
              "        }\n",
              "      </script>\n",
              "    </div>\n",
              "  </div>\n",
              "  "
            ],
            "text/plain": [
              "           default\n",
              "enrolldt          \n",
              "1997      0.138499\n",
              "1998      0.119100\n",
              "1999      0.059871"
            ]
          },
          "metadata": {},
          "execution_count": 28
        }
      ],
      "source": [
        "# default rate by year\n",
        "df[['default', 'enrolldt']].groupby('enrolldt').mean()"
      ]
    },
    {
      "cell_type": "markdown",
      "metadata": {
        "id": "VLf0NJIRFzfZ"
      },
      "source": [
        "From the table, we see that 1990 has a significantly lower default rate."
      ]
    },
    {
      "cell_type": "code",
      "execution_count": null,
      "metadata": {
        "colab": {
          "base_uri": "https://localhost:8080/",
          "height": 421
        },
        "id": "RTAYTNQe9qfF",
        "outputId": "70b15564-695c-4e00-becc-092609eb9f65"
      },
      "outputs": [
        {
          "output_type": "execute_result",
          "data": {
            "text/plain": [
              "Text(0.5, 1.0, 'default count by price')"
            ]
          },
          "metadata": {},
          "execution_count": 29
        },
        {
          "output_type": "display_data",
          "data": {
            "image/png": "[encoded data removed]",
            "text/plain": [
              "<Figure size 720x432 with 1 Axes>"
            ]
          },
          "metadata": {
            "needs_background": "light"
          }
        }
      ],
      "source": [
        "# 3. check default by price\n",
        "plt.figure(figsize = (10, 6))\n",
        "sns.histplot(data = df, x = 'price', kde = True, hue = 'default')\n",
        "plt.xlabel('price')\n",
        "plt.ylabel('count')\n",
        "plt.title('default count by price')"
      ]
    },
    {
      "cell_type": "markdown",
      "metadata": {
        "id": "V6ZxDO3pCq_z"
      },
      "source": [
        "According to the plot, membership price around 1000 will have higher probability of defaulting."
      ]
    },
    {
      "cell_type": "code",
      "execution_count": null,
      "metadata": {
        "colab": {
          "base_uri": "https://localhost:8080/",
          "height": 584
        },
        "id": "dV3Hsg0W9qZA",
        "outputId": "a970e91e-9714-420a-b63d-7839fe00ed51"
      },
      "outputs": [
        {
          "output_type": "execute_result",
          "data": {
            "text/plain": [
              "Text(0.5, 1.0, 'default count by downpmt')"
            ]
          },
          "metadata": {},
          "execution_count": 30
        },
        {
          "output_type": "display_data",
          "data": {
            "image/png": "[encoded data removed]",
            "text/plain": [
              "<Figure size 1080x648 with 1 Axes>"
            ]
          },
          "metadata": {
            "needs_background": "light"
          }
        }
      ],
      "source": [
        "# 4. check default by downpmt\n",
        "plt.figure(figsize = (15, 9))\n",
        "sns.histplot(data = df, x = 'downpmt', kde = True, hue = 'default')\n",
        "plt.xlabel('downpmt')\n",
        "plt.ylabel('count')\n",
        "plt.title('default count by downpmt')"
      ]
    },
    {
      "cell_type": "markdown",
      "metadata": {
        "id": "YPjPwJhUD1jy"
      },
      "source": [
        "From the plot, we observe that people with down payment range 0-50 are more likely to default."
      ]
    },
    {
      "cell_type": "code",
      "execution_count": null,
      "metadata": {
        "colab": {
          "base_uri": "https://localhost:8080/",
          "height": 421
        },
        "id": "lXCNpAmG9qTq",
        "outputId": "a730c1e5-f3de-4c0b-a93c-b0adedc08afc"
      },
      "outputs": [
        {
          "output_type": "execute_result",
          "data": {
            "text/plain": [
              "Text(0.5, 1.0, 'default count by monthdue')"
            ]
          },
          "metadata": {},
          "execution_count": 31
        },
        {
          "output_type": "display_data",
          "data": {
            "image/png": "[encoded data removed]",
            "text/plain": [
              "<Figure size 720x432 with 1 Axes>"
            ]
          },
          "metadata": {
            "needs_background": "light"
          }
        }
      ],
      "source": [
        "# 5. check default by monthdue\n",
        "plt.figure(figsize = (10, 6))\n",
        "sns.histplot(data = df, x = 'monthdue', kde = True, hue = 'default')\n",
        "plt.xlabel('monthdue')\n",
        "plt.ylabel('count')\n",
        "plt.title('default count by monthdue')"
      ]
    },
    {
      "cell_type": "markdown",
      "metadata": {
        "id": "WydVbuNqE6l9"
      },
      "source": [
        "From the plot, no obvious trend could be observed from the monthly due."
      ]
    },
    {
      "cell_type": "code",
      "execution_count": null,
      "metadata": {
        "colab": {
          "base_uri": "https://localhost:8080/",
          "height": 421
        },
        "id": "0QbDczNe9qQy",
        "outputId": "526218c2-5bc1-4e7e-e41c-beae59ac8ebe"
      },
      "outputs": [
        {
          "output_type": "execute_result",
          "data": {
            "text/plain": [
              "Text(0.5, 1.0, 'default count by payment type')"
            ]
          },
          "metadata": {},
          "execution_count": 32
        },
        {
          "output_type": "display_data",
          "data": {
            "image/png": "[encoded data removed]",
            "text/plain": [
              "<Figure size 720x432 with 1 Axes>"
            ]
          },
          "metadata": {
            "needs_background": "light"
          }
        }
      ],
      "source": [
        "# 6. check default by payment type\n",
        "plt.figure(figsize = (10, 6))\n",
        "sns.countplot(data = df, x = 'pmttype', hue = 'default')\n",
        "plt.xlabel('payment type')\n",
        "plt.ylabel('count')\n",
        "plt.title('default count by payment type')\n"
      ]
    },
    {
      "cell_type": "code",
      "execution_count": null,
      "metadata": {
        "colab": {
          "base_uri": "https://localhost:8080/",
          "height": 206
        },
        "id": "boCP_Edb9qOC",
        "outputId": "1d66a73a-3518-4890-e93b-48b8ce5ef6b4"
      },
      "outputs": [
        {
          "output_type": "execute_result",
          "data": {
            "text/html": [
              "\n",
              "  <div id=\"df-9f231060-e4e9-462d-bcf4-e59380659578\">\n",
              "    <div class=\"colab-df-container\">\n",
              "      <div>\n",
              "<style scoped>\n",
              "    .dataframe tbody tr th:only-of-type {\n",
              "        vertical-align: middle;\n",
              "    }\n",
              "\n",
              "    .dataframe tbody tr th {\n",
              "        vertical-align: top;\n",
              "    }\n",
              "\n",
              "    .dataframe thead th {\n",
              "        text-align: right;\n",
              "    }\n",
              "</style>\n",
              "<table border=\"1\" class=\"dataframe\">\n",
              "  <thead>\n",
              "    <tr style=\"text-align: right;\">\n",
              "      <th></th>\n",
              "      <th>default</th>\n",
              "    </tr>\n",
              "    <tr>\n",
              "      <th>pmttype</th>\n",
              "      <th></th>\n",
              "    </tr>\n",
              "  </thead>\n",
              "  <tbody>\n",
              "    <tr>\n",
              "      <th>1</th>\n",
              "      <td>0.239948</td>\n",
              "    </tr>\n",
              "    <tr>\n",
              "      <th>3</th>\n",
              "      <td>0.160902</td>\n",
              "    </tr>\n",
              "    <tr>\n",
              "      <th>4</th>\n",
              "      <td>0.009440</td>\n",
              "    </tr>\n",
              "    <tr>\n",
              "      <th>5</th>\n",
              "      <td>0.018817</td>\n",
              "    </tr>\n",
              "  </tbody>\n",
              "</table>\n",
              "</div>\n",
              "      <button class=\"colab-df-convert\" onclick=\"convertToInteractive('df-9f231060-e4e9-462d-bcf4-e59380659578')\"\n",
              "              title=\"Convert this dataframe to an interactive table.\"\n",
              "              style=\"display:none;\">\n",
              "        \n",
              "  <svg xmlns=\"http://www.w3.org/2000/svg\" height=\"24px\"viewBox=\"0 0 24 24\"\n",
              "       width=\"24px\">\n",
              "    <path d=\"M0 0h24v24H0V0z\" fill=\"none\"/>\n",
              "    <path d=\"M18.56 5.44l.94 2.06.94-2.06 2.06-.94-2.06-.94-.94-2.06-.94 2.06-2.06.94zm-11 1L8.5 8.5l.94-2.06 2.06-.94-2.06-.94L8.5 2.5l-.94 2.06-2.06.94zm10 10l.94 2.06.94-2.06 2.06-.94-2.06-.94-.94-2.06-.94 2.06-2.06.94z\"/><path d=\"M17.41 7.96l-1.37-1.37c-.4-.4-.92-.59-1.43-.59-.52 0-1.04.2-1.43.59L10.3 9.45l-7.72 7.72c-.78.78-.78 2.05 0 2.83L4 21.41c.39.39.9.59 1.41.59.51 0 1.02-.2 1.41-.59l7.78-7.78 2.81-2.81c.8-.78.8-2.07 0-2.86zM5.41 20L4 18.59l7.72-7.72 1.47 1.35L5.41 20z\"/>\n",
              "  </svg>\n",
              "      </button>\n",
              "      \n",
              "  <style>\n",
              "    .colab-df-container {\n",
              "      display:flex;\n",
              "      flex-wrap:wrap;\n",
              "      gap: 12px;\n",
              "    }\n",
              "\n",
              "    .colab-df-convert {\n",
              "      background-color: #E8F0FE;\n",
              "      border: none;\n",
              "      border-radius: 50%;\n",
              "      cursor: pointer;\n",
              "      display: none;\n",
              "      fill: #1967D2;\n",
              "      height: 32px;\n",
              "      padding: 0 0 0 0;\n",
              "      width: 32px;\n",
              "    }\n",
              "\n",
              "    .colab-df-convert:hover {\n",
              "      background-color: #E2EBFA;\n",
              "      box-shadow: 0px 1px 2px rgba(60, 64, 67, 0.3), 0px 1px 3px 1px rgba(60, 64, 67, 0.15);\n",
              "      fill: #174EA6;\n",
              "    }\n",
              "\n",
              "    [theme=dark] .colab-df-convert {\n",
              "      background-color: #3B4455;\n",
              "      fill: #D2E3FC;\n",
              "    }\n",
              "\n",
              "    [theme=dark] .colab-df-convert:hover {\n",
              "      background-color: #434B5C;\n",
              "      box-shadow: 0px 1px 3px 1px rgba(0, 0, 0, 0.15);\n",
              "      filter: drop-shadow(0px 1px 2px rgba(0, 0, 0, 0.3));\n",
              "      fill: #FFFFFF;\n",
              "    }\n",
              "  </style>\n",
              "\n",
              "      <script>\n",
              "        const buttonEl =\n",
              "          document.querySelector('#df-9f231060-e4e9-462d-bcf4-e59380659578 button.colab-df-convert');\n",
              "        buttonEl.style.display =\n",
              "          google.colab.kernel.accessAllowed ? 'block' : 'none';\n",
              "\n",
              "        async function convertToInteractive(key) {\n",
              "          const element = document.querySelector('#df-9f231060-e4e9-462d-bcf4-e59380659578');\n",
              "          const dataTable =\n",
              "            await google.colab.kernel.invokeFunction('convertToInteractive',\n",
              "                                                     [key], {});\n",
              "          if (!dataTable) return;\n",
              "\n",
              "          const docLinkHtml = 'Like what you see? Visit the ' +\n",
              "            '<a target=\"_blank\" href=https://colab.research.google.com/notebooks/data_table.ipynb>data table notebook</a>'\n",
              "            + ' to learn more about interactive tables.';\n",
              "          element.innerHTML = '';\n",
              "          dataTable['output_type'] = 'display_data';\n",
              "          await google.colab.output.renderOutput(dataTable, element);\n",
              "          const docLink = document.createElement('div');\n",
              "          docLink.innerHTML = docLinkHtml;\n",
              "          element.appendChild(docLink);\n",
              "        }\n",
              "      </script>\n",
              "    </div>\n",
              "  </div>\n",
              "  "
            ],
            "text/plain": [
              "          default\n",
              "pmttype          \n",
              "1        0.239948\n",
              "3        0.160902\n",
              "4        0.009440\n",
              "5        0.018817"
            ]
          },
          "metadata": {},
          "execution_count": 33
        }
      ],
      "source": [
        "# default rate by payment type\n",
        "df[['pmttype', 'default']].groupby('pmttype').mean()"
      ]
    },
    {
      "cell_type": "markdown",
      "metadata": {
        "id": "ZxD5A3MEHDpz"
      },
      "source": [
        "From the table, we observe that **credit card** and **cash** have significantly higher default rate than other payment types."
      ]
    },
    {
      "cell_type": "code",
      "execution_count": null,
      "metadata": {
        "colab": {
          "base_uri": "https://localhost:8080/"
        },
        "id": "YAJ0hqNBHQh7",
        "outputId": "559562ef-b2a1-4fa2-8e91-f89649d2a3a9"
      },
      "outputs": [
        {
          "output_type": "execute_result",
          "data": {
            "text/plain": [
              "0    9919\n",
              "1    5776\n",
              "6    2462\n",
              "3    2385\n",
              "4    1483\n",
              "5    1125\n",
              "7     792\n",
              "2     618\n",
              "8     283\n",
              "Name: use, dtype: int64"
            ]
          },
          "metadata": {},
          "execution_count": 34
        }
      ],
      "source": [
        "# 7. check default by use\n",
        "df['use'].value_counts()"
      ]
    },
    {
      "cell_type": "code",
      "execution_count": null,
      "metadata": {
        "colab": {
          "base_uri": "https://localhost:8080/",
          "height": 421
        },
        "id": "sLknKQoGHQfJ",
        "outputId": "4cb6f54b-fb21-48b2-d193-0625ea315f96"
      },
      "outputs": [
        {
          "output_type": "execute_result",
          "data": {
            "text/plain": [
              "Text(0.5, 1.0, 'default count by use')"
            ]
          },
          "metadata": {},
          "execution_count": 35
        },
        {
          "output_type": "display_data",
          "data": {
            "image/png": "[encoded data removed]",
            "text/plain": [
              "<Figure size 720x432 with 1 Axes>"
            ]
          },
          "metadata": {
            "needs_background": "light"
          }
        }
      ],
      "source": [
        "plt.figure(figsize = (10, 6))\n",
        "sns.countplot(data = df, x = 'use', hue = 'default')\n",
        "plt.xlabel('use')\n",
        "plt.ylabel('count')\n",
        "plt.title('default count by use')"
      ]
    },
    {
      "cell_type": "code",
      "execution_count": null,
      "metadata": {
        "colab": {
          "base_uri": "https://localhost:8080/",
          "height": 363
        },
        "id": "9uJeFjM6HQcl",
        "outputId": "7e873bcd-9ca2-4a28-bd79-f6200629eefc"
      },
      "outputs": [
        {
          "output_type": "execute_result",
          "data": {
            "text/html": [
              "\n",
              "  <div id=\"df-83b5abe1-a2c8-4128-bd63-5b2b0472a174\">\n",
              "    <div class=\"colab-df-container\">\n",
              "      <div>\n",
              "<style scoped>\n",
              "    .dataframe tbody tr th:only-of-type {\n",
              "        vertical-align: middle;\n",
              "    }\n",
              "\n",
              "    .dataframe tbody tr th {\n",
              "        vertical-align: top;\n",
              "    }\n",
              "\n",
              "    .dataframe thead th {\n",
              "        text-align: right;\n",
              "    }\n",
              "</style>\n",
              "<table border=\"1\" class=\"dataframe\">\n",
              "  <thead>\n",
              "    <tr style=\"text-align: right;\">\n",
              "      <th></th>\n",
              "      <th>default</th>\n",
              "    </tr>\n",
              "    <tr>\n",
              "      <th>use</th>\n",
              "      <th></th>\n",
              "    </tr>\n",
              "  </thead>\n",
              "  <tbody>\n",
              "    <tr>\n",
              "      <th>0</th>\n",
              "      <td>0.210606</td>\n",
              "    </tr>\n",
              "    <tr>\n",
              "      <th>1</th>\n",
              "      <td>0.107514</td>\n",
              "    </tr>\n",
              "    <tr>\n",
              "      <th>2</th>\n",
              "      <td>0.061489</td>\n",
              "    </tr>\n",
              "    <tr>\n",
              "      <th>3</th>\n",
              "      <td>0.035220</td>\n",
              "    </tr>\n",
              "    <tr>\n",
              "      <th>4</th>\n",
              "      <td>0.010115</td>\n",
              "    </tr>\n",
              "    <tr>\n",
              "      <th>5</th>\n",
              "      <td>0.004444</td>\n",
              "    </tr>\n",
              "    <tr>\n",
              "      <th>6</th>\n",
              "      <td>0.002031</td>\n",
              "    </tr>\n",
              "    <tr>\n",
              "      <th>7</th>\n",
              "      <td>0.001263</td>\n",
              "    </tr>\n",
              "    <tr>\n",
              "      <th>8</th>\n",
              "      <td>0.000000</td>\n",
              "    </tr>\n",
              "  </tbody>\n",
              "</table>\n",
              "</div>\n",
              "      <button class=\"colab-df-convert\" onclick=\"convertToInteractive('df-83b5abe1-a2c8-4128-bd63-5b2b0472a174')\"\n",
              "              title=\"Convert this dataframe to an interactive table.\"\n",
              "              style=\"display:none;\">\n",
              "        \n",
              "  <svg xmlns=\"http://www.w3.org/2000/svg\" height=\"24px\"viewBox=\"0 0 24 24\"\n",
              "       width=\"24px\">\n",
              "    <path d=\"M0 0h24v24H0V0z\" fill=\"none\"/>\n",
              "    <path d=\"M18.56 5.44l.94 2.06.94-2.06 2.06-.94-2.06-.94-.94-2.06-.94 2.06-2.06.94zm-11 1L8.5 8.5l.94-2.06 2.06-.94-2.06-.94L8.5 2.5l-.94 2.06-2.06.94zm10 10l.94 2.06.94-2.06 2.06-.94-2.06-.94-.94-2.06-.94 2.06-2.06.94z\"/><path d=\"M17.41 7.96l-1.37-1.37c-.4-.4-.92-.59-1.43-.59-.52 0-1.04.2-1.43.59L10.3 9.45l-7.72 7.72c-.78.78-.78 2.05 0 2.83L4 21.41c.39.39.9.59 1.41.59.51 0 1.02-.2 1.41-.59l7.78-7.78 2.81-2.81c.8-.78.8-2.07 0-2.86zM5.41 20L4 18.59l7.72-7.72 1.47 1.35L5.41 20z\"/>\n",
              "  </svg>\n",
              "      </button>\n",
              "      \n",
              "  <style>\n",
              "    .colab-df-container {\n",
              "      display:flex;\n",
              "      flex-wrap:wrap;\n",
              "      gap: 12px;\n",
              "    }\n",
              "\n",
              "    .colab-df-convert {\n",
              "      background-color: #E8F0FE;\n",
              "      border: none;\n",
              "      border-radius: 50%;\n",
              "      cursor: pointer;\n",
              "      display: none;\n",
              "      fill: #1967D2;\n",
              "      height: 32px;\n",
              "      padding: 0 0 0 0;\n",
              "      width: 32px;\n",
              "    }\n",
              "\n",
              "    .colab-df-convert:hover {\n",
              "      background-color: #E2EBFA;\n",
              "      box-shadow: 0px 1px 2px rgba(60, 64, 67, 0.3), 0px 1px 3px 1px rgba(60, 64, 67, 0.15);\n",
              "      fill: #174EA6;\n",
              "    }\n",
              "\n",
              "    [theme=dark] .colab-df-convert {\n",
              "      background-color: #3B4455;\n",
              "      fill: #D2E3FC;\n",
              "    }\n",
              "\n",
              "    [theme=dark] .colab-df-convert:hover {\n",
              "      background-color: #434B5C;\n",
              "      box-shadow: 0px 1px 3px 1px rgba(0, 0, 0, 0.15);\n",
              "      filter: drop-shadow(0px 1px 2px rgba(0, 0, 0, 0.3));\n",
              "      fill: #FFFFFF;\n",
              "    }\n",
              "  </style>\n",
              "\n",
              "      <script>\n",
              "        const buttonEl =\n",
              "          document.querySelector('#df-83b5abe1-a2c8-4128-bd63-5b2b0472a174 button.colab-df-convert');\n",
              "        buttonEl.style.display =\n",
              "          google.colab.kernel.accessAllowed ? 'block' : 'none';\n",
              "\n",
              "        async function convertToInteractive(key) {\n",
              "          const element = document.querySelector('#df-83b5abe1-a2c8-4128-bd63-5b2b0472a174');\n",
              "          const dataTable =\n",
              "            await google.colab.kernel.invokeFunction('convertToInteractive',\n",
              "                                                     [key], {});\n",
              "          if (!dataTable) return;\n",
              "\n",
              "          const docLinkHtml = 'Like what you see? Visit the ' +\n",
              "            '<a target=\"_blank\" href=https://colab.research.google.com/notebooks/data_table.ipynb>data table notebook</a>'\n",
              "            + ' to learn more about interactive tables.';\n",
              "          element.innerHTML = '';\n",
              "          dataTable['output_type'] = 'display_data';\n",
              "          await google.colab.output.renderOutput(dataTable, element);\n",
              "          const docLink = document.createElement('div');\n",
              "          docLink.innerHTML = docLinkHtml;\n",
              "          element.appendChild(docLink);\n",
              "        }\n",
              "      </script>\n",
              "    </div>\n",
              "  </div>\n",
              "  "
            ],
            "text/plain": [
              "      default\n",
              "use          \n",
              "0    0.210606\n",
              "1    0.107514\n",
              "2    0.061489\n",
              "3    0.035220\n",
              "4    0.010115\n",
              "5    0.004444\n",
              "6    0.002031\n",
              "7    0.001263\n",
              "8    0.000000"
            ]
          },
          "metadata": {},
          "execution_count": 36
        }
      ],
      "source": [
        "# default rate by use\n",
        "df[['use', 'default']].groupby('use').mean()"
      ]
    },
    {
      "cell_type": "markdown",
      "metadata": {
        "id": "9bHp9r1NIbh_"
      },
      "source": [
        "From the table, we see that the more frquently a customer goes to the gym, the less likely he/she will default. Therefore, 0 usage has the highest default rate."
      ]
    },
    {
      "cell_type": "code",
      "execution_count": null,
      "metadata": {
        "colab": {
          "base_uri": "https://localhost:8080/",
          "height": 584
        },
        "id": "KJ23HFu_HQZt",
        "outputId": "60aaaa63-a217-4a19-aeae-8c4917db4d11"
      },
      "outputs": [
        {
          "output_type": "execute_result",
          "data": {
            "text/plain": [
              "Text(0.5, 1.0, 'default count by age')"
            ]
          },
          "metadata": {},
          "execution_count": 37
        },
        {
          "output_type": "display_data",
          "data": {
            "image/png": "[encoded data removed]",
            "text/plain": [
              "<Figure size 1080x648 with 1 Axes>"
            ]
          },
          "metadata": {
            "needs_background": "light"
          }
        }
      ],
      "source": [
        "# 8. check default by age\n",
        "plt.figure(figsize = (15, 9))\n",
        "sns.histplot(data = df, x = 'age', kde = True, hue = 'default')\n",
        "plt.xlabel('age')\n",
        "plt.ylabel('count')\n",
        "plt.title('default count by age')"
      ]
    },
    {
      "cell_type": "markdown",
      "metadata": {
        "id": "KOG2LtXgJau6"
      },
      "source": [
        "From the plot, we cannot observe an obvious trend from the age column."
      ]
    },
    {
      "cell_type": "code",
      "execution_count": null,
      "metadata": {
        "colab": {
          "base_uri": "https://localhost:8080/",
          "height": 421
        },
        "id": "T9GqVqAL9qKw",
        "outputId": "13ca380b-dbf5-47df-9d7a-50a1ac186b27"
      },
      "outputs": [
        {
          "output_type": "execute_result",
          "data": {
            "text/plain": [
              "Text(0.5, 1.0, 'default count by gender')"
            ]
          },
          "metadata": {},
          "execution_count": 38
        },
        {
          "output_type": "display_data",
          "data": {
            "image/png": "[encoded data removed]",
            "text/plain": [
              "<Figure size 432x432 with 1 Axes>"
            ]
          },
          "metadata": {
            "needs_background": "light"
          }
        }
      ],
      "source": [
        "# 9. check default by gender\n",
        "plt.figure(figsize = (6, 6))\n",
        "sns.countplot(data = df, x = 'gender', hue = 'default')\n",
        "plt.xlabel('gender')\n",
        "plt.ylabel('count')\n",
        "plt.title('default count by gender')"
      ]
    },
    {
      "cell_type": "code",
      "execution_count": null,
      "metadata": {
        "colab": {
          "base_uri": "https://localhost:8080/",
          "height": 143
        },
        "id": "i002iQHwJ6nA",
        "outputId": "93f115a6-36cb-4f2f-ae61-ebf3fe14594c"
      },
      "outputs": [
        {
          "output_type": "execute_result",
          "data": {
            "text/html": [
              "\n",
              "  <div id=\"df-30edbb79-3a12-4f88-99a4-0fd91a349efe\">\n",
              "    <div class=\"colab-df-container\">\n",
              "      <div>\n",
              "<style scoped>\n",
              "    .dataframe tbody tr th:only-of-type {\n",
              "        vertical-align: middle;\n",
              "    }\n",
              "\n",
              "    .dataframe tbody tr th {\n",
              "        vertical-align: top;\n",
              "    }\n",
              "\n",
              "    .dataframe thead th {\n",
              "        text-align: right;\n",
              "    }\n",
              "</style>\n",
              "<table border=\"1\" class=\"dataframe\">\n",
              "  <thead>\n",
              "    <tr style=\"text-align: right;\">\n",
              "      <th></th>\n",
              "      <th>default</th>\n",
              "    </tr>\n",
              "    <tr>\n",
              "      <th>gender</th>\n",
              "      <th></th>\n",
              "    </tr>\n",
              "  </thead>\n",
              "  <tbody>\n",
              "    <tr>\n",
              "      <th>1</th>\n",
              "      <td>0.127255</td>\n",
              "    </tr>\n",
              "    <tr>\n",
              "      <th>2</th>\n",
              "      <td>0.102732</td>\n",
              "    </tr>\n",
              "  </tbody>\n",
              "</table>\n",
              "</div>\n",
              "      <button class=\"colab-df-convert\" onclick=\"convertToInteractive('df-30edbb79-3a12-4f88-99a4-0fd91a349efe')\"\n",
              "              title=\"Convert this dataframe to an interactive table.\"\n",
              "              style=\"display:none;\">\n",
              "        \n",
              "  <svg xmlns=\"http://www.w3.org/2000/svg\" height=\"24px\"viewBox=\"0 0 24 24\"\n",
              "       width=\"24px\">\n",
              "    <path d=\"M0 0h24v24H0V0z\" fill=\"none\"/>\n",
              "    <path d=\"M18.56 5.44l.94 2.06.94-2.06 2.06-.94-2.06-.94-.94-2.06-.94 2.06-2.06.94zm-11 1L8.5 8.5l.94-2.06 2.06-.94-2.06-.94L8.5 2.5l-.94 2.06-2.06.94zm10 10l.94 2.06.94-2.06 2.06-.94-2.06-.94-.94-2.06-.94 2.06-2.06.94z\"/><path d=\"M17.41 7.96l-1.37-1.37c-.4-.4-.92-.59-1.43-.59-.52 0-1.04.2-1.43.59L10.3 9.45l-7.72 7.72c-.78.78-.78 2.05 0 2.83L4 21.41c.39.39.9.59 1.41.59.51 0 1.02-.2 1.41-.59l7.78-7.78 2.81-2.81c.8-.78.8-2.07 0-2.86zM5.41 20L4 18.59l7.72-7.72 1.47 1.35L5.41 20z\"/>\n",
              "  </svg>\n",
              "      </button>\n",
              "      \n",
              "  <style>\n",
              "    .colab-df-container {\n",
              "      display:flex;\n",
              "      flex-wrap:wrap;\n",
              "      gap: 12px;\n",
              "    }\n",
              "\n",
              "    .colab-df-convert {\n",
              "      background-color: #E8F0FE;\n",
              "      border: none;\n",
              "      border-radius: 50%;\n",
              "      cursor: pointer;\n",
              "      display: none;\n",
              "      fill: #1967D2;\n",
              "      height: 32px;\n",
              "      padding: 0 0 0 0;\n",
              "      width: 32px;\n",
              "    }\n",
              "\n",
              "    .colab-df-convert:hover {\n",
              "      background-color: #E2EBFA;\n",
              "      box-shadow: 0px 1px 2px rgba(60, 64, 67, 0.3), 0px 1px 3px 1px rgba(60, 64, 67, 0.15);\n",
              "      fill: #174EA6;\n",
              "    }\n",
              "\n",
              "    [theme=dark] .colab-df-convert {\n",
              "      background-color: #3B4455;\n",
              "      fill: #D2E3FC;\n",
              "    }\n",
              "\n",
              "    [theme=dark] .colab-df-convert:hover {\n",
              "      background-color: #434B5C;\n",
              "      box-shadow: 0px 1px 3px 1px rgba(0, 0, 0, 0.15);\n",
              "      filter: drop-shadow(0px 1px 2px rgba(0, 0, 0, 0.3));\n",
              "      fill: #FFFFFF;\n",
              "    }\n",
              "  </style>\n",
              "\n",
              "      <script>\n",
              "        const buttonEl =\n",
              "          document.querySelector('#df-30edbb79-3a12-4f88-99a4-0fd91a349efe button.colab-df-convert');\n",
              "        buttonEl.style.display =\n",
              "          google.colab.kernel.accessAllowed ? 'block' : 'none';\n",
              "\n",
              "        async function convertToInteractive(key) {\n",
              "          const element = document.querySelector('#df-30edbb79-3a12-4f88-99a4-0fd91a349efe');\n",
              "          const dataTable =\n",
              "            await google.colab.kernel.invokeFunction('convertToInteractive',\n",
              "                                                     [key], {});\n",
              "          if (!dataTable) return;\n",
              "\n",
              "          const docLinkHtml = 'Like what you see? Visit the ' +\n",
              "            '<a target=\"_blank\" href=https://colab.research.google.com/notebooks/data_table.ipynb>data table notebook</a>'\n",
              "            + ' to learn more about interactive tables.';\n",
              "          element.innerHTML = '';\n",
              "          dataTable['output_type'] = 'display_data';\n",
              "          await google.colab.output.renderOutput(dataTable, element);\n",
              "          const docLink = document.createElement('div');\n",
              "          docLink.innerHTML = docLinkHtml;\n",
              "          element.appendChild(docLink);\n",
              "        }\n",
              "      </script>\n",
              "    </div>\n",
              "  </div>\n",
              "  "
            ],
            "text/plain": [
              "         default\n",
              "gender          \n",
              "1       0.127255\n",
              "2       0.102732"
            ]
          },
          "metadata": {},
          "execution_count": 39
        }
      ],
      "source": [
        "# default rate by gender\n",
        "df[['gender', 'default']].groupby('gender').mean()"
      ]
    },
    {
      "cell_type": "markdown",
      "metadata": {
        "id": "3HNAsHOTKFu8"
      },
      "source": [
        "From the table, we cannot see obvious difference in default rate by gender."
      ]
    },
    {
      "cell_type": "code",
      "execution_count": null,
      "metadata": {
        "colab": {
          "base_uri": "https://localhost:8080/",
          "height": 607
        },
        "id": "UsSMm_VyKcJO",
        "outputId": "68d8b602-d29e-4de7-a7d4-16bbe5b1af4f"
      },
      "outputs": [
        {
          "output_type": "display_data",
          "data": {
            "image/png": "[encoded data removed]",
            "text/plain": [
              "<Figure size 1080x720 with 9 Axes>"
            ]
          },
          "metadata": {
            "needs_background": "light"
          }
        }
      ],
      "source": [
        "# check the distributions for each variable\n",
        "fig = plt.figure(figsize = (15, 10))\n",
        "ax = fig.gca()\n",
        "df.hist(ax = ax, color = 'maroon')\n",
        "pass"
      ]
    },
    {
      "cell_type": "code",
      "execution_count": null,
      "metadata": {
        "colab": {
          "base_uri": "https://localhost:8080/",
          "height": 504
        },
        "id": "0wWT1kwh9nz2",
        "outputId": "f12f4e54-85b6-45dd-bf78-41094c5813d9"
      },
      "outputs": [
        {
          "output_type": "execute_result",
          "data": {
            "text/plain": [
              "<matplotlib.axes._subplots.AxesSubplot at 0x7efffb257610>"
            ]
          },
          "metadata": {},
          "execution_count": 41
        },
        {
          "output_type": "display_data",
          "data": {
            "image/png": "[encoded data removed]",
            "text/plain": [
              "<Figure size 720x576 with 2 Axes>"
            ]
          },
          "metadata": {
            "needs_background": "light"
          }
        }
      ],
      "source": [
        "# check the correlations bewteen the variables\n",
        "var = ['price', 'downpmt', 'monthdue', 'age', 'use']\n",
        "\n",
        "plt.figure(figsize = (10, 8))\n",
        "corr = df[var].corr()\n",
        "sns.heatmap(corr, xticklabels=corr.columns, yticklabels=corr.columns, annot=True, linewidth=0.5, vmin=-1, vmax=1, fmt='.1f', cmap='Greens')"
      ]
    },
    {
      "cell_type": "markdown",
      "metadata": {
        "id": "5MswLpWpX6w9"
      },
      "source": [
        "# 6. Modeling"
      ]
    },
    {
      "cell_type": "markdown",
      "metadata": {
        "id": "4vcTgp84BmYk"
      },
      "source": [
        "Define predictors and target values."
      ]
    },
    {
      "cell_type": "code",
      "execution_count": null,
      "metadata": {
        "id": "60N8_7vqBmLD"
      },
      "outputs": [],
      "source": [
        "target = 'default'\n",
        "predicators = ['enrolldt', 'price', 'downpmt', 'pmttype', 'use', 'age', 'gender']"
      ]
    },
    {
      "cell_type": "code",
      "execution_count": null,
      "metadata": {
        "id": "mnj0Fv4vBmIC"
      },
      "outputs": [],
      "source": [
        "X = df.loc[:, predicators]\n",
        "y = df[target]"
      ]
    },
    {
      "cell_type": "markdown",
      "metadata": {
        "id": "cPcDuK2aCxiu"
      },
      "source": [
        "Split train and test data."
      ]
    },
    {
      "cell_type": "code",
      "execution_count": null,
      "metadata": {
        "id": "PVICPa_iBmFW"
      },
      "outputs": [],
      "source": [
        "from sklearn.model_selection import train_test_split\n",
        "X_train, X_test, y_train, y_test = train_test_split(X, y, test_size = TEST_SIZE, random_state = RANDOM_STATE)"
      ]
    },
    {
      "cell_type": "markdown",
      "metadata": {
        "id": "6quLtQuzEDZb"
      },
      "source": [
        "**Balance training data by SMOTE(Synthetic Minority Oversampling Technique)**"
      ]
    },
    {
      "cell_type": "markdown",
      "metadata": {
        "id": "bK8Lxk6-EWYh"
      },
      "source": [
        "Before oversampling, counts of 'default' and 'non-default' are:"
      ]
    },
    {
      "cell_type": "code",
      "execution_count": null,
      "metadata": {
        "colab": {
          "base_uri": "https://localhost:8080/"
        },
        "id": "BhgHih8lBmCe",
        "outputId": "446182bf-3137-4604-e26b-07add4627b82"
      },
      "outputs": [
        {
          "output_type": "execute_result",
          "data": {
            "text/plain": [
              "0    13222\n",
              "1     1683\n",
              "Name: default, dtype: int64"
            ]
          },
          "metadata": {},
          "execution_count": 45
        }
      ],
      "source": [
        "y_train.value_counts()"
      ]
    },
    {
      "cell_type": "markdown",
      "metadata": {
        "id": "FGI-EsyBGBq-"
      },
      "source": [
        "Implement SMOTE to create a balanced dataset."
      ]
    },
    {
      "cell_type": "code",
      "execution_count": null,
      "metadata": {
        "id": "_V5CoekhBl_H"
      },
      "outputs": [],
      "source": [
        "from imblearn.over_sampling import SMOTE\n",
        "smote = SMOTE()\n",
        "X_train, y_train = smote.fit_resample(X_train, y_train)"
      ]
    },
    {
      "cell_type": "markdown",
      "metadata": {
        "id": "FbwkuxJOGeUl"
      },
      "source": [
        "After oversampling, verify the lastest counts of 'default' and 'non-default'."
      ]
    },
    {
      "cell_type": "code",
      "execution_count": null,
      "metadata": {
        "colab": {
          "base_uri": "https://localhost:8080/"
        },
        "id": "Okk8P95ABl8R",
        "outputId": "1e3c4fd2-35a1-4192-c21c-83d1dc14f274"
      },
      "outputs": [
        {
          "output_type": "execute_result",
          "data": {
            "text/plain": [
              "1    13222\n",
              "0    13222\n",
              "Name: default, dtype: int64"
            ]
          },
          "metadata": {},
          "execution_count": 47
        }
      ],
      "source": [
        "y_train.value_counts()"
      ]
    },
    {
      "cell_type": "markdown",
      "metadata": {
        "id": "XvLRWaV-ctz9"
      },
      "source": [
        "Feature Standardization"
      ]
    },
    {
      "cell_type": "code",
      "execution_count": null,
      "metadata": {
        "id": "a8O6URb7cszb"
      },
      "outputs": [],
      "source": [
        "from sklearn.preprocessing import StandardScaler\n",
        "scalar = StandardScaler()\n",
        "# fit() used for computing mean and std for later scaling\n",
        "scalar.fit(X_train)\n",
        "X_train_scaled = scalar.transform(X_train)\n",
        "X_test_scaled = scalar.transform(X_test)"
      ]
    },
    {
      "cell_type": "markdown",
      "metadata": {
        "id": "z0l91mn8erK_"
      },
      "source": [
        "**Try different models for the dataset**"
      ]
    },
    {
      "cell_type": "code",
      "execution_count": null,
      "metadata": {
        "id": "yxH8zqfhg2CG"
      },
      "outputs": [],
      "source": [
        "from sklearn.metrics import confusion_matrix\n",
        "from sklearn.metrics import classification_report\n",
        "from sklearn.metrics import accuracy_score"
      ]
    },
    {
      "cell_type": "markdown",
      "metadata": {
        "id": "F7YeurBDe7fN"
      },
      "source": [
        "1. Logistic Regression"
      ]
    },
    {
      "cell_type": "code",
      "execution_count": null,
      "metadata": {
        "id": "_5Scn3OFcsWF"
      },
      "outputs": [],
      "source": [
        "from sklearn.linear_model import LogisticRegression\n",
        "lr = LogisticRegression(random_state = RANDOM_STATE)\n",
        "lr.fit(X_train_scaled, y_train)\n",
        "y_pred_lr = lr.predict(X_test_scaled)"
      ]
    },
    {
      "cell_type": "code",
      "execution_count": null,
      "metadata": {
        "colab": {
          "base_uri": "https://localhost:8080/"
        },
        "id": "1BUNjEsVcsS2",
        "outputId": "b124fd9a-abda-44aa-a88d-141c426c6820"
      },
      "outputs": [
        {
          "output_type": "stream",
          "name": "stdout",
          "text": [
            "Confusion Matrix for Logistic Regression Model: \n",
            " [[7549 1214]\n",
            " [ 250  925]]\n"
          ]
        }
      ],
      "source": [
        "print('Confusion Matrix for Logistic Regression Model: \\n', confusion_matrix(y_test, y_pred_lr))\n",
        "#  [[TN FP]\n",
        "#  [ FN  TP]]"
      ]
    },
    {
      "cell_type": "code",
      "execution_count": null,
      "metadata": {
        "colab": {
          "base_uri": "https://localhost:8080/"
        },
        "id": "hu7JgHcccsPr",
        "outputId": "5de280b5-814b-4983-b8e8-8ca66130ba55"
      },
      "outputs": [
        {
          "output_type": "stream",
          "name": "stdout",
          "text": [
            "Classification Report for Logistic Regression Model: \n",
            "               precision    recall  f1-score   support\n",
            "\n",
            "           0       0.97      0.86      0.91      8763\n",
            "           1       0.43      0.79      0.56      1175\n",
            "\n",
            "    accuracy                           0.85      9938\n",
            "   macro avg       0.70      0.82      0.73      9938\n",
            "weighted avg       0.90      0.85      0.87      9938\n",
            "\n"
          ]
        }
      ],
      "source": [
        "print('Classification Report for Logistic Regression Model: \\n', classification_report(y_test, y_pred_lr))"
      ]
    },
    {
      "cell_type": "code",
      "execution_count": null,
      "metadata": {
        "id": "wK6-g1oVo1Qv"
      },
      "outputs": [],
      "source": [
        "from sklearn import metrics"
      ]
    },
    {
      "cell_type": "code",
      "execution_count": null,
      "metadata": {
        "id": "ekdkvX5po1M7"
      },
      "outputs": [],
      "source": [
        "def auc_roc(y_pred_probs, y_test):\n",
        "  auc = metrics.roc_auc_score(y_test, y_pred_probs)\n",
        "  print('AUC Score: %.2f\\n' % auc)\n",
        "\n",
        "  fpr, tpr, thresholds = metrics.roc_curve(y_test, y_pred_probs)\n",
        "  plt.plot(fpr, tpr, color = 'orange', label = 'ROC')\n",
        "  plt.plot([0,1], [0,1], color = 'darkblue', linestyle = '--')\n",
        "  plt.xlabel('False Positive Rate')\n",
        "  plt.ylabel('True Positive Rate')\n",
        "  plt.title('ROC Curve')\n",
        "  plt.legend()\n",
        "  plt.show()"
      ]
    },
    {
      "cell_type": "code",
      "execution_count": null,
      "metadata": {
        "id": "SsJ2f3YUo1Jt"
      },
      "outputs": [],
      "source": [
        "pred_prob = lr.predict_proba(X_test_scaled)\n",
        "probs = pred_prob[:, 1]"
      ]
    },
    {
      "cell_type": "code",
      "execution_count": null,
      "metadata": {
        "colab": {
          "base_uri": "https://localhost:8080/",
          "height": 330
        },
        "id": "A9bSyRrVo1De",
        "outputId": "51fb9459-4ae1-4f03-a31f-eb73b6dad84a"
      },
      "outputs": [
        {
          "output_type": "stream",
          "name": "stdout",
          "text": [
            "AUC Score: 0.91\n",
            "\n"
          ]
        },
        {
          "output_type": "display_data",
          "data": {
            "image/png": "[encoded data removed]",
            "text/plain": [
              "<Figure size 432x288 with 1 Axes>"
            ]
          },
          "metadata": {
            "needs_background": "light"
          }
        }
      ],
      "source": [
        "auc_roc(probs, y_test)"
      ]
    },
    {
      "cell_type": "markdown",
      "metadata": {
        "id": "g9NK7yLFrcix"
      },
      "source": [
        "2. Random Forest"
      ]
    },
    {
      "cell_type": "markdown",
      "metadata": {
        "id": "PNwuA1p3rlUw"
      },
      "source": [
        "Hyperparameter Tuning: use grid search to identify the optimal parameters of our random forest model."
      ]
    },
    {
      "cell_type": "code",
      "execution_count": null,
      "metadata": {
        "id": "fuDLZsiIo079"
      },
      "outputs": [],
      "source": [
        "from sklearn.model_selection import GridSearchCV\n",
        "from sklearn.ensemble import RandomForestClassifier"
      ]
    },
    {
      "cell_type": "code",
      "execution_count": null,
      "metadata": {
        "colab": {
          "base_uri": "https://localhost:8080/"
        },
        "id": "HsxYMGlXo04s",
        "outputId": "1d3a0d2a-ab63-46ac-cd72-bb0f001b5dce"
      },
      "outputs": [
        {
          "output_type": "execute_result",
          "data": {
            "text/plain": [
              "GridSearchCV(cv=3,\n",
              "             estimator=RandomForestClassifier(n_jobs=-1, oob_score=True,\n",
              "                                              random_state=42),\n",
              "             param_grid={'criterion': ['gini', 'entropy'],\n",
              "                         'max_depth': [2, 4, 6, 8],\n",
              "                         'max_features': ['auto', 'sqrt', 'log2'],\n",
              "                         'n_estimators': [200, 500]})"
            ]
          },
          "metadata": {},
          "execution_count": 58
        }
      ],
      "source": [
        "rf = RandomForestClassifier(oob_score = True, random_state = RANDOM_STATE, n_jobs = -1)\n",
        "param_grid = {'n_estimators': [200, 500],\n",
        "              'max_features': ['auto', 'sqrt', 'log2'],\n",
        "              'max_depth': [2, 4, 6, 8],\n",
        "              'criterion': ['gini', 'entropy']}\n",
        "CV_rf = GridSearchCV(estimator = rf, param_grid = param_grid, cv = 3)\n",
        "CV_rf.fit(X_train_scaled, y_train)"
      ]
    },
    {
      "cell_type": "code",
      "execution_count": null,
      "metadata": {
        "colab": {
          "base_uri": "https://localhost:8080/"
        },
        "id": "vuXmqgi_uxFE",
        "outputId": "0c1b9c67-2c18-4934-d00b-28fc85d50ae6"
      },
      "outputs": [
        {
          "output_type": "stream",
          "name": "stdout",
          "text": [
            "{'criterion': 'gini', 'max_depth': 8, 'max_features': 'auto', 'n_estimators': 500}\n"
          ]
        }
      ],
      "source": [
        "print(CV_rf.best_params_)"
      ]
    },
    {
      "cell_type": "code",
      "execution_count": null,
      "metadata": {
        "colab": {
          "base_uri": "https://localhost:8080/"
        },
        "id": "xJwfYWj5uw7Z",
        "outputId": "1c530493-08df-45f5-be6e-98f0914ea43e"
      },
      "outputs": [
        {
          "output_type": "stream",
          "name": "stdout",
          "text": [
            "0.9082971868393942\n"
          ]
        }
      ],
      "source": [
        "print(CV_rf.best_score_)"
      ]
    },
    {
      "cell_type": "code",
      "execution_count": null,
      "metadata": {
        "id": "2iuuqpwyuwsU"
      },
      "outputs": [],
      "source": [
        "rf = RandomForestClassifier(random_state = RANDOM_STATE, max_features = 'auto', n_estimators = 500, max_depth = 8, criterion = 'gini')"
      ]
    },
    {
      "cell_type": "code",
      "execution_count": null,
      "metadata": {
        "id": "MvofCHX_vBxT"
      },
      "outputs": [],
      "source": [
        "rf.fit(X_train_scaled, y_train)\n",
        "y_pred_rf = rf.predict(X_test_scaled)"
      ]
    },
    {
      "cell_type": "code",
      "execution_count": null,
      "metadata": {
        "colab": {
          "base_uri": "https://localhost:8080/"
        },
        "id": "9eCpHWzUvBry",
        "outputId": "b814f359-dfd1-4812-d933-6799a309ea35"
      },
      "outputs": [
        {
          "output_type": "stream",
          "name": "stdout",
          "text": [
            "Confusion Matrix for Random Forest Model: \n",
            " [[7608 1155]\n",
            " [ 213  962]]\n"
          ]
        }
      ],
      "source": [
        "print('Confusion Matrix for Random Forest Model: \\n', confusion_matrix(y_test, y_pred_rf))"
      ]
    },
    {
      "cell_type": "code",
      "execution_count": null,
      "metadata": {
        "colab": {
          "base_uri": "https://localhost:8080/"
        },
        "id": "VVce0r0hvBnX",
        "outputId": "4598e78b-be3d-43c0-c2cb-20b5f7ec1f67"
      },
      "outputs": [
        {
          "output_type": "stream",
          "name": "stdout",
          "text": [
            "Classification Report for Random Forest Model: \n",
            "               precision    recall  f1-score   support\n",
            "\n",
            "           0       0.97      0.87      0.92      8763\n",
            "           1       0.45      0.82      0.58      1175\n",
            "\n",
            "    accuracy                           0.86      9938\n",
            "   macro avg       0.71      0.84      0.75      9938\n",
            "weighted avg       0.91      0.86      0.88      9938\n",
            "\n"
          ]
        }
      ],
      "source": [
        "print('Classification Report for Random Forest Model: \\n', classification_report(y_test, y_pred_rf))"
      ]
    },
    {
      "cell_type": "code",
      "execution_count": null,
      "metadata": {
        "colab": {
          "base_uri": "https://localhost:8080/",
          "height": 330
        },
        "id": "DqIVUfVhw6Yr",
        "outputId": "2a1f39be-f008-4be5-a834-fc4b8fc51b0e"
      },
      "outputs": [
        {
          "output_type": "stream",
          "name": "stdout",
          "text": [
            "AUC Score: 0.92\n",
            "\n"
          ]
        },
        {
          "output_type": "display_data",
          "data": {
            "image/png": "[encoded data removed]",
            "text/plain": [
              "<Figure size 432x288 with 1 Axes>"
            ]
          },
          "metadata": {
            "needs_background": "light"
          }
        }
      ],
      "source": [
        "pred_prob = rf.predict_proba(X_test_scaled)\n",
        "probs = pred_prob[:, 1]\n",
        "auc_roc(probs, y_test)"
      ]
    },
    {
      "cell_type": "code",
      "execution_count": null,
      "metadata": {
        "colab": {
          "base_uri": "https://localhost:8080/",
          "height": 295
        },
        "id": "_piFkdwoxP6Z",
        "outputId": "20ca402d-a90b-4a50-ea9c-cd04f8d1f8aa"
      },
      "outputs": [
        {
          "output_type": "display_data",
          "data": {
            "image/png": "[encoded data removed]",
            "text/plain": [
              "<Figure size 432x288 with 1 Axes>"
            ]
          },
          "metadata": {
            "needs_background": "light"
          }
        }
      ],
      "source": [
        "# Find feature importance\n",
        "features = X.columns\n",
        "importances = rf.feature_importances_\n",
        "indices = np.argsort(importances)\n",
        "\n",
        "plt.title('Feature Importances by RF')\n",
        "plt.barh(range(len(indices)), importances[indices], color='b', align='center')\n",
        "plt.yticks(range(len(indices)), [features[i] for i in indices])\n",
        "plt.xlabel('Relative Importance')\n",
        "plt.show()"
      ]
    },
    {
      "cell_type": "markdown",
      "metadata": {
        "id": "B8k1vLP7w2iH"
      },
      "source": [
        "3. Decision Tree"
      ]
    },
    {
      "cell_type": "code",
      "execution_count": null,
      "metadata": {
        "colab": {
          "base_uri": "https://localhost:8080/",
          "height": 466
        },
        "id": "UuuhuQGXxCGB",
        "outputId": "9a5a3de2-97ff-40b6-f17e-83b7041a9951"
      },
      "outputs": [
        {
          "output_type": "display_data",
          "data": {
            "image/png": "[encoded data removed]",
            "text/plain": [
              "<Figure size 1080x576 with 1 Axes>"
            ]
          },
          "metadata": {
            "needs_background": "light"
          }
        }
      ],
      "source": [
        "from sklearn import tree\n",
        "from sklearn.tree import DecisionTreeClassifier\n",
        "dt = DecisionTreeClassifier(max_depth=3)\n",
        "# Train Decision Tree Classifer\n",
        "dt = dt.fit(X_train_scaled, y_train)\n",
        "plt.figure(figsize=(15,8))\n",
        "tree.plot_tree(dt, fontsize=10,feature_names = X.columns,\n",
        "               class_names=['Pay','Default'],\n",
        "               filled = True,rounded=True)\n",
        "plt.show()"
      ]
    },
    {
      "cell_type": "code",
      "execution_count": null,
      "metadata": {
        "id": "xAZ7MenbxBnP"
      },
      "outputs": [],
      "source": [
        "y_pred_dt = dt.predict(X_test_scaled)"
      ]
    },
    {
      "cell_type": "code",
      "execution_count": null,
      "metadata": {
        "colab": {
          "base_uri": "https://localhost:8080/"
        },
        "id": "pg3gb3Se9KDx",
        "outputId": "51873589-d560-4202-d338-e7f298106eaa"
      },
      "outputs": [
        {
          "output_type": "execute_result",
          "data": {
            "text/plain": [
              "0.8046890722479372"
            ]
          },
          "metadata": {},
          "execution_count": 69
        }
      ],
      "source": [
        "accuracy_score(y_test, y_pred_dt)"
      ]
    },
    {
      "cell_type": "code",
      "execution_count": null,
      "metadata": {
        "colab": {
          "base_uri": "https://localhost:8080/",
          "height": 330
        },
        "id": "K-2a3ntm8m1m",
        "outputId": "05cb0804-76fc-4b53-a59c-2a44b141f96a"
      },
      "outputs": [
        {
          "output_type": "stream",
          "name": "stdout",
          "text": [
            "AUC Score: 0.86\n",
            "\n"
          ]
        },
        {
          "output_type": "display_data",
          "data": {
            "image/png": "[encoded data removed]",
            "text/plain": [
              "<Figure size 432x288 with 1 Axes>"
            ]
          },
          "metadata": {
            "needs_background": "light"
          }
        }
      ],
      "source": [
        "pred_prob = dt.predict_proba(X_test_scaled)\n",
        "probs = pred_prob[:, 1]\n",
        "auc_roc(probs, y_test)"
      ]
    },
    {
      "cell_type": "code",
      "execution_count": null,
      "metadata": {
        "colab": {
          "base_uri": "https://localhost:8080/"
        },
        "id": "BapumJxB8myr",
        "outputId": "887fe10c-a259-4068-a236-71197794459a"
      },
      "outputs": [
        {
          "output_type": "stream",
          "name": "stdout",
          "text": [
            "\n",
            "Confusion Matrix for Decision Tree:\n",
            " [[6938 1825]\n",
            " [ 116 1059]]\n"
          ]
        }
      ],
      "source": [
        "print(\"\\nConfusion Matrix for Decision Tree:\\n\", confusion_matrix(y_test, y_pred_dt))"
      ]
    },
    {
      "cell_type": "code",
      "execution_count": null,
      "metadata": {
        "colab": {
          "base_uri": "https://localhost:8080/"
        },
        "id": "0DDqFwiR8mv5",
        "outputId": "d73e0111-bc3e-4771-fbf5-cbc09efde063"
      },
      "outputs": [
        {
          "output_type": "stream",
          "name": "stdout",
          "text": [
            "\n",
            "Classification Report for Decision Tree:\n",
            "               precision    recall  f1-score   support\n",
            "\n",
            "           0       0.98      0.79      0.88      8763\n",
            "           1       0.37      0.90      0.52      1175\n",
            "\n",
            "    accuracy                           0.80      9938\n",
            "   macro avg       0.68      0.85      0.70      9938\n",
            "weighted avg       0.91      0.80      0.84      9938\n",
            "\n"
          ]
        }
      ],
      "source": [
        "print(\"\\nClassification Report for Decision Tree:\\n\", classification_report(y_test, y_pred_dt))"
      ]
    },
    {
      "cell_type": "markdown",
      "metadata": {
        "id": "bODh_jbk871C"
      },
      "source": [
        "4. XGBoosts"
      ]
    },
    {
      "cell_type": "code",
      "execution_count": null,
      "metadata": {
        "colab": {
          "base_uri": "https://localhost:8080/"
        },
        "id": "IHbDpntj85Hu",
        "outputId": "38200321-57b0-461e-fee5-7f841af699c5"
      },
      "outputs": [
        {
          "output_type": "stream",
          "name": "stdout",
          "text": [
            "<class 'xgboost.sklearn.XGBClassifier'>\n"
          ]
        }
      ],
      "source": [
        "import xgboost as xgb\n",
        "\n",
        "xgb_cl = xgb.XGBClassifier()\n",
        "print(type(xgb_cl))"
      ]
    },
    {
      "cell_type": "code",
      "execution_count": null,
      "metadata": {
        "colab": {
          "base_uri": "https://localhost:8080/"
        },
        "id": "X7HVsDzZ85FJ",
        "outputId": "e1998539-c88c-4377-8dc6-6289c7ed12c1"
      },
      "outputs": [
        {
          "output_type": "execute_result",
          "data": {
            "text/plain": [
              "0.8727108070034212"
            ]
          },
          "metadata": {},
          "execution_count": 74
        }
      ],
      "source": [
        "# Fit\n",
        "xgb_cl.fit(X_train_scaled, y_train)\n",
        "\n",
        "# Predict\n",
        "y_pred_xgb = xgb_cl.predict(X_test_scaled)\n",
        "\n",
        "# Score\n",
        "accuracy_score(y_test, y_pred_xgb)"
      ]
    },
    {
      "cell_type": "markdown",
      "metadata": {
        "id": "RQ6ane5H9TvO"
      },
      "source": [
        "Improve the model performance further by user *GridSearchCV*"
      ]
    },
    {
      "cell_type": "code",
      "execution_count": null,
      "metadata": {
        "id": "lvZgJ51e85CN"
      },
      "outputs": [],
      "source": [
        "param_grid = {\n",
        "    \"max_depth\": [3, 4, 5, 7],\n",
        "    \"learning_rate\": [0.1, 0.01, 0.05],\n",
        "    \"gamma\": [0, 0.25, 1],\n",
        "    \"reg_lambda\": [0, 1, 10],\n",
        "    \"scale_pos_weight\": [1, 3, 5],\n",
        "    \"subsample\": [0.8],\n",
        "    \"colsample_bytree\": [0.5],\n",
        "}"
      ]
    },
    {
      "cell_type": "code",
      "execution_count": null,
      "metadata": {
        "colab": {
          "base_uri": "https://localhost:8080/"
        },
        "id": "-DnAFU6a9mnp",
        "outputId": "c4b1a866-5f25-4437-cf28-9f5d0b8b48b5"
      },
      "outputs": [
        {
          "output_type": "execute_result",
          "data": {
            "text/plain": [
              "GridSearchCV(cv=3, estimator=XGBClassifier(), n_jobs=-1,\n",
              "             param_grid={'colsample_bytree': [0.5], 'gamma': [0, 0.25, 1],\n",
              "                         'learning_rate': [0.1, 0.01, 0.05],\n",
              "                         'max_depth': [3, 4, 5, 7], 'reg_lambda': [0, 1, 10],\n",
              "                         'scale_pos_weight': [1, 3, 5], 'subsample': [0.8]},\n",
              "             scoring='roc_auc')"
            ]
          },
          "metadata": {},
          "execution_count": 76
        }
      ],
      "source": [
        "# Init classifier\n",
        "xgb_cl = xgb.XGBClassifier(objective=\"binary:logistic\")\n",
        "\n",
        "# Init Grid Search\n",
        "CV_xgb = GridSearchCV(xgb_cl, param_grid, n_jobs=-1, cv=3, scoring=\"roc_auc\")\n",
        "\n",
        "# Fit\n",
        "CV_xgb.fit(X_train_scaled, y_train)"
      ]
    },
    {
      "cell_type": "code",
      "execution_count": null,
      "metadata": {
        "colab": {
          "base_uri": "https://localhost:8080/"
        },
        "id": "l1loC4x89mgv",
        "outputId": "3f2e6f57-a6df-410a-b586-c263ae50d8c7"
      },
      "outputs": [
        {
          "output_type": "execute_result",
          "data": {
            "text/plain": [
              "{'colsample_bytree': 0.5,\n",
              " 'gamma': 0.25,\n",
              " 'learning_rate': 0.1,\n",
              " 'max_depth': 7,\n",
              " 'reg_lambda': 0,\n",
              " 'scale_pos_weight': 1,\n",
              " 'subsample': 0.8}"
            ]
          },
          "metadata": {},
          "execution_count": 77
        }
      ],
      "source": [
        "CV_xgb.best_params_"
      ]
    },
    {
      "cell_type": "code",
      "execution_count": null,
      "metadata": {
        "colab": {
          "base_uri": "https://localhost:8080/"
        },
        "id": "0hnCCcWwxBXE",
        "outputId": "8edd26e6-99d6-4fba-f7a2-1c87fc633c9b"
      },
      "outputs": [
        {
          "output_type": "execute_result",
          "data": {
            "text/plain": [
              "0.9768726588282574"
            ]
          },
          "metadata": {},
          "execution_count": 78
        }
      ],
      "source": [
        "CV_xgb.best_score_"
      ]
    },
    {
      "cell_type": "code",
      "execution_count": null,
      "metadata": {
        "id": "RXN4OqDFBh0W"
      },
      "outputs": [],
      "source": [
        "xgb_final = xgb.XGBClassifier(\n",
        "    **CV_xgb.best_params_,\n",
        "    objective=\"binary:logistic\"\n",
        ")"
      ]
    },
    {
      "cell_type": "code",
      "execution_count": null,
      "metadata": {
        "colab": {
          "base_uri": "https://localhost:8080/"
        },
        "id": "SgzH5xVHBhvz",
        "outputId": "006bf0ff-f8d8-4f51-afc4-104f3dd000aa"
      },
      "outputs": [
        {
          "output_type": "execute_result",
          "data": {
            "text/plain": [
              "0.884282551821292"
            ]
          },
          "metadata": {},
          "execution_count": 80
        }
      ],
      "source": [
        "# Predict on the test-set\n",
        "xgb_final.fit(X_train_scaled, y_train)\n",
        "preds = xgb_final.predict(X_test_scaled)\n",
        "accuracy_score(y_test, preds)"
      ]
    },
    {
      "cell_type": "code",
      "execution_count": null,
      "metadata": {
        "id": "h6UpVXctBho-"
      },
      "outputs": [],
      "source": [
        "# Insert the new fixed values to the grid\n",
        "param_grid[\"subsample\"] = [0.8]\n",
        "param_grid[\"colsample_bytree\"] = [0.5]\n",
        "\n",
        "# Give new value ranges to other params\n",
        "param_grid[\"max_depth\"] = [7,9,10,15]\n",
        "param_grid[\"reg_lambda\"] = [0,0.1,0.2,0.3]\n",
        "param_grid[\"gamma\"] = [0,0.05,0.1]\n",
        "param_grid[\"learning_rate\"] = [0.1,0.3,0.5]\n",
        "param_grid[\"scale_pos_weight\"] = [0.1,0.5,1]"
      ]
    },
    {
      "cell_type": "code",
      "execution_count": null,
      "metadata": {
        "colab": {
          "base_uri": "https://localhost:8080/"
        },
        "id": "79M98OQPCHb-",
        "outputId": "09c7151a-49b1-41ef-baff-d29e8ed96206"
      },
      "outputs": [
        {
          "output_type": "execute_result",
          "data": {
            "text/plain": [
              "GridSearchCV(cv=3, estimator=XGBClassifier(), n_jobs=-1,\n",
              "             param_grid={'colsample_bytree': [0.5], 'gamma': [0, 0.05, 0.1],\n",
              "                         'learning_rate': [0.1, 0.3, 0.5],\n",
              "                         'max_depth': [7, 9, 10, 15],\n",
              "                         'reg_lambda': [0, 0.1, 0.2, 0.3],\n",
              "                         'scale_pos_weight': [0.1, 0.5, 1],\n",
              "                         'subsample': [0.8]},\n",
              "             scoring='roc_auc')"
            ]
          },
          "metadata": {},
          "execution_count": 82
        }
      ],
      "source": [
        "CV_xgb_2 = GridSearchCV(xgb_cl, param_grid, n_jobs=-1, cv=3, scoring=\"roc_auc\")\n",
        "CV_xgb_2.fit(X_train_scaled, y_train)"
      ]
    },
    {
      "cell_type": "code",
      "execution_count": null,
      "metadata": {
        "colab": {
          "base_uri": "https://localhost:8080/"
        },
        "id": "QKnAnLR7CHYR",
        "outputId": "6da52212-8961-4a0f-dfb0-9d62a3f96e05"
      },
      "outputs": [
        {
          "output_type": "execute_result",
          "data": {
            "text/plain": [
              "{'colsample_bytree': 0.5,\n",
              " 'gamma': 0.05,\n",
              " 'learning_rate': 0.1,\n",
              " 'max_depth': 15,\n",
              " 'reg_lambda': 0,\n",
              " 'scale_pos_weight': 1,\n",
              " 'subsample': 0.8}"
            ]
          },
          "metadata": {},
          "execution_count": 83
        }
      ],
      "source": [
        "CV_xgb_2.best_params_"
      ]
    },
    {
      "cell_type": "code",
      "execution_count": null,
      "metadata": {
        "colab": {
          "base_uri": "https://localhost:8080/"
        },
        "id": "IPgJny66CHVu",
        "outputId": "e5fdb17d-9f76-4d0a-a07f-003192918464"
      },
      "outputs": [
        {
          "output_type": "execute_result",
          "data": {
            "text/plain": [
              "0.9837757952379024"
            ]
          },
          "metadata": {},
          "execution_count": 84
        }
      ],
      "source": [
        "CV_xgb_2.best_score_"
      ]
    },
    {
      "cell_type": "code",
      "execution_count": null,
      "metadata": {
        "id": "B0gdl1fECHSh"
      },
      "outputs": [],
      "source": [
        "xgb_final = xgb.XGBClassifier(\n",
        "    **CV_xgb_2.best_params_,\n",
        "    objective=\"binary:logistic\"\n",
        ")"
      ]
    },
    {
      "cell_type": "code",
      "execution_count": null,
      "metadata": {
        "colab": {
          "base_uri": "https://localhost:8080/"
        },
        "id": "FwIIGrWKC9lU",
        "outputId": "020ddffe-1d49-4e2e-9f52-048994c7deb7"
      },
      "outputs": [
        {
          "output_type": "execute_result",
          "data": {
            "text/plain": [
              "0.8984705172066815"
            ]
          },
          "metadata": {},
          "execution_count": 86
        }
      ],
      "source": [
        "# Predict on the test-set\n",
        "xgb_final.fit(X_train_scaled, y_train)\n",
        "y_pred_xgb = xgb_final.predict(X_test_scaled)\n",
        "accuracy_score(y_test, y_pred_xgb)"
      ]
    },
    {
      "cell_type": "code",
      "execution_count": null,
      "metadata": {
        "colab": {
          "base_uri": "https://localhost:8080/"
        },
        "id": "_cnY_Gl7C9ix",
        "outputId": "56d74304-9dd9-4932-f2fc-1aa8e2baa38b"
      },
      "outputs": [
        {
          "output_type": "stream",
          "name": "stdout",
          "text": [
            "\n",
            "Confusion Matrix for Decision Tree:\n",
            " [[8160  603]\n",
            " [ 406  769]]\n"
          ]
        }
      ],
      "source": [
        "print(\"\\nConfusion Matrix for Decision Tree:\\n\", confusion_matrix(y_test, y_pred_xgb))"
      ]
    },
    {
      "cell_type": "code",
      "execution_count": null,
      "metadata": {
        "colab": {
          "base_uri": "https://localhost:8080/"
        },
        "id": "QefeKpE9C9gQ",
        "outputId": "9ba338a0-d643-4876-bcfb-039c5f0ec533"
      },
      "outputs": [
        {
          "output_type": "stream",
          "name": "stdout",
          "text": [
            "\n",
            "Classification Report for Decision Tree:\n",
            "               precision    recall  f1-score   support\n",
            "\n",
            "           0       0.95      0.93      0.94      8763\n",
            "           1       0.56      0.65      0.60      1175\n",
            "\n",
            "    accuracy                           0.90      9938\n",
            "   macro avg       0.76      0.79      0.77      9938\n",
            "weighted avg       0.91      0.90      0.90      9938\n",
            "\n"
          ]
        }
      ],
      "source": [
        "print(\"\\nClassification Report for Decision Tree:\\n\", classification_report(y_test, y_pred_xgb))"
      ]
    },
    {
      "cell_type": "code",
      "execution_count": null,
      "metadata": {
        "colab": {
          "base_uri": "https://localhost:8080/",
          "height": 330
        },
        "id": "XQmSMSlcC9dq",
        "outputId": "b476a486-3909-405f-c984-f4b9eb0ebd19"
      },
      "outputs": [
        {
          "output_type": "stream",
          "name": "stdout",
          "text": [
            "AUC Score: 0.92\n",
            "\n"
          ]
        },
        {
          "output_type": "display_data",
          "data": {
            "image/png": "[encoded data removed]",
            "text/plain": [
              "<Figure size 432x288 with 1 Axes>"
            ]
          },
          "metadata": {
            "needs_background": "light"
          }
        }
      ],
      "source": [
        "pred_prob = xgb_final.predict_proba(X_test_scaled)\n",
        "probs = pred_prob[:, 1]\n",
        "auc_roc(probs, y_test)"
      ]
    },
    {
      "cell_type": "markdown",
      "metadata": {
        "id": "ZIZ7zqduDaov"
      },
      "source": [
        "5. Lightgbm"
      ]
    },
    {
      "cell_type": "code",
      "execution_count": null,
      "metadata": {
        "id": "pwestovWC9bQ"
      },
      "outputs": [],
      "source": [
        "import lightgbm as lgb\n",
        "\n",
        "lgb_clf = lgb.LGBMClassifier()"
      ]
    },
    {
      "cell_type": "code",
      "execution_count": null,
      "metadata": {
        "colab": {
          "base_uri": "https://localhost:8080/"
        },
        "id": "OFmiL7s-DxcL",
        "outputId": "41610b3d-9a56-4a8e-e8b1-adcb96b6345e"
      },
      "outputs": [
        {
          "output_type": "execute_result",
          "data": {
            "text/plain": [
              "0.8849869188971624"
            ]
          },
          "metadata": {},
          "execution_count": 91
        }
      ],
      "source": [
        "# Fit\n",
        "lgb_clf.fit(X_train_scaled, y_train)\n",
        "\n",
        "# Predict\n",
        "y_pred_lgb = lgb_clf.predict(X_test_scaled)\n",
        "\n",
        "# Score\n",
        "accuracy_score(y_pred_lgb, y_test)"
      ]
    },
    {
      "cell_type": "code",
      "execution_count": null,
      "metadata": {
        "colab": {
          "base_uri": "https://localhost:8080/"
        },
        "id": "lx3UfOxdDxaB",
        "outputId": "a16dbf62-7ee1-48f3-f275-e8640dbed209"
      },
      "outputs": [
        {
          "output_type": "stream",
          "name": "stdout",
          "text": [
            "\n",
            "Confusion Matrix for Lightgbm:\n",
            " [[7916  847]\n",
            " [ 296  879]]\n"
          ]
        }
      ],
      "source": [
        "print(\"\\nConfusion Matrix for Lightgbm:\\n\", confusion_matrix(y_test, y_pred_lgb))"
      ]
    },
    {
      "cell_type": "code",
      "execution_count": null,
      "metadata": {
        "id": "O29YmPeyDxXo",
        "colab": {
          "base_uri": "https://localhost:8080/"
        },
        "outputId": "b2e3e0c3-33a9-4e04-93a3-400fc7a96511"
      },
      "outputs": [
        {
          "output_type": "stream",
          "name": "stdout",
          "text": [
            "\n",
            "Classification Report for Decision Tree:\n",
            "               precision    recall  f1-score   support\n",
            "\n",
            "           0       0.96      0.90      0.93      8763\n",
            "           1       0.51      0.75      0.61      1175\n",
            "\n",
            "    accuracy                           0.88      9938\n",
            "   macro avg       0.74      0.83      0.77      9938\n",
            "weighted avg       0.91      0.88      0.89      9938\n",
            "\n"
          ]
        }
      ],
      "source": [
        "print(\"\\nClassification Report for Decision Tree:\\n\", classification_report(y_test, y_pred_lgb))"
      ]
    },
    {
      "cell_type": "code",
      "execution_count": null,
      "metadata": {
        "colab": {
          "base_uri": "https://localhost:8080/",
          "height": 330
        },
        "id": "hYjcbtifDxVN",
        "outputId": "388e836d-1583-4352-e33e-062e9017c675"
      },
      "outputs": [
        {
          "output_type": "stream",
          "name": "stdout",
          "text": [
            "AUC Score: 0.93\n",
            "\n"
          ]
        },
        {
          "output_type": "display_data",
          "data": {
            "image/png": "[encoded data removed]",
            "text/plain": [
              "<Figure size 432x288 with 1 Axes>"
            ]
          },
          "metadata": {
            "needs_background": "light"
          }
        }
      ],
      "source": [
        "pred_prob = lgb_clf.predict_proba(X_test_scaled)\n",
        "probs = pred_prob[:, 1]\n",
        "auc_roc(probs, y_test)"
      ]
    },
    {
      "cell_type": "code",
      "execution_count": null,
      "metadata": {
        "id": "gjSPj1tAEZYD"
      },
      "outputs": [],
      "source": [
        "# Computing Metrics\n",
        "\n",
        "from sklearn.metrics import accuracy_score\n",
        "from sklearn.metrics import precision_score\n",
        "from sklearn.metrics import recall_score\n",
        "from sklearn.metrics import f1_score"
      ]
    },
    {
      "cell_type": "code",
      "source": [
        "acc_list, pre_list, re_list, f1_list = [], [], [], []"
      ],
      "metadata": {
        "id": "WOb4oSuWOBvr"
      },
      "execution_count": null,
      "outputs": []
    },
    {
      "cell_type": "code",
      "execution_count": null,
      "metadata": {
        "id": "ObwbRew9EZVn"
      },
      "outputs": [],
      "source": [
        "def compute_metrics(Y_test, Y_pred):\n",
        "  acc = round(accuracy_score(Y_test, Y_pred), 3)\n",
        "  acc_list.append(acc)\n",
        "  pre = round(precision_score(Y_test, Y_pred), 3)\n",
        "  pre_list.append(pre)\n",
        "  re = round(recall_score(Y_test, Y_pred), 3)\n",
        "  re_list.append(re)\n",
        "  f1 = round(f1_score(Y_test, Y_pred), 3)\n",
        "  f1_list.append(f1)\n"
      ]
    },
    {
      "cell_type": "code",
      "source": [
        "# logistic regression\n",
        "compute_metrics(y_test, y_pred_lr)\n",
        "\n",
        "# random forest\n",
        "compute_metrics(y_test, y_pred_rf)\n",
        "\n",
        "# decision tree\n",
        "compute_metrics(y_test, y_pred_dt)\n",
        "\n",
        "# xgboosts\n",
        "compute_metrics(y_test, y_pred_xgb)\n",
        "\n",
        "# lightgbm\n",
        "compute_metrics(y_test, y_pred_lgb)"
      ],
      "metadata": {
        "id": "WJgveuc-Lid1"
      },
      "execution_count": null,
      "outputs": []
    },
    {
      "cell_type": "code",
      "source": [
        "# Build results table & compare\n",
        "model_list = ['Logistic Regression', 'Random Forest', 'Decision Tree', 'XGBoosts', 'LightGBM']\n",
        "res = pd.DataFrame({\n",
        "    'Model': model_list,\n",
        "    'Accuracy': acc_list,\n",
        "    'Precision': pre_list,\n",
        "    'Recall': re_list,\n",
        "    'F1-Score': f1_list,\n",
        "})\n",
        "\n",
        "res"
      ],
      "metadata": {
        "colab": {
          "base_uri": "https://localhost:8080/",
          "height": 206
        },
        "id": "dZm9ouctP3Fv",
        "outputId": "9ac42177-ec21-4a1f-f538-8546b6303e88"
      },
      "execution_count": null,
      "outputs": [
        {
          "output_type": "execute_result",
          "data": {
            "text/html": [
              "\n",
              "  <div id=\"df-6a286cf0-7fc4-4846-a63c-64af3eeba0bb\">\n",
              "    <div class=\"colab-df-container\">\n",
              "      <div>\n",
              "<style scoped>\n",
              "    .dataframe tbody tr th:only-of-type {\n",
              "        vertical-align: middle;\n",
              "    }\n",
              "\n",
              "    .dataframe tbody tr th {\n",
              "        vertical-align: top;\n",
              "    }\n",
              "\n",
              "    .dataframe thead th {\n",
              "        text-align: right;\n",
              "    }\n",
              "</style>\n",
              "<table border=\"1\" class=\"dataframe\">\n",
              "  <thead>\n",
              "    <tr style=\"text-align: right;\">\n",
              "      <th></th>\n",
              "      <th>Model</th>\n",
              "      <th>Accuracy</th>\n",
              "      <th>Precision</th>\n",
              "      <th>Recall</th>\n",
              "      <th>F1-Score</th>\n",
              "    </tr>\n",
              "  </thead>\n",
              "  <tbody>\n",
              "    <tr>\n",
              "      <th>0</th>\n",
              "      <td>Logistic Regression</td>\n",
              "      <td>0.853</td>\n",
              "      <td>0.432</td>\n",
              "      <td>0.787</td>\n",
              "      <td>0.558</td>\n",
              "    </tr>\n",
              "    <tr>\n",
              "      <th>1</th>\n",
              "      <td>Random Forest</td>\n",
              "      <td>0.862</td>\n",
              "      <td>0.454</td>\n",
              "      <td>0.819</td>\n",
              "      <td>0.584</td>\n",
              "    </tr>\n",
              "    <tr>\n",
              "      <th>2</th>\n",
              "      <td>Decision Tree</td>\n",
              "      <td>0.805</td>\n",
              "      <td>0.367</td>\n",
              "      <td>0.901</td>\n",
              "      <td>0.522</td>\n",
              "    </tr>\n",
              "    <tr>\n",
              "      <th>3</th>\n",
              "      <td>XGBoosts</td>\n",
              "      <td>0.898</td>\n",
              "      <td>0.560</td>\n",
              "      <td>0.654</td>\n",
              "      <td>0.604</td>\n",
              "    </tr>\n",
              "    <tr>\n",
              "      <th>4</th>\n",
              "      <td>LightGBM</td>\n",
              "      <td>0.885</td>\n",
              "      <td>0.509</td>\n",
              "      <td>0.748</td>\n",
              "      <td>0.606</td>\n",
              "    </tr>\n",
              "  </tbody>\n",
              "</table>\n",
              "</div>\n",
              "      <button class=\"colab-df-convert\" onclick=\"convertToInteractive('df-6a286cf0-7fc4-4846-a63c-64af3eeba0bb')\"\n",
              "              title=\"Convert this dataframe to an interactive table.\"\n",
              "              style=\"display:none;\">\n",
              "        \n",
              "  <svg xmlns=\"http://www.w3.org/2000/svg\" height=\"24px\"viewBox=\"0 0 24 24\"\n",
              "       width=\"24px\">\n",
              "    <path d=\"M0 0h24v24H0V0z\" fill=\"none\"/>\n",
              "    <path d=\"M18.56 5.44l.94 2.06.94-2.06 2.06-.94-2.06-.94-.94-2.06-.94 2.06-2.06.94zm-11 1L8.5 8.5l.94-2.06 2.06-.94-2.06-.94L8.5 2.5l-.94 2.06-2.06.94zm10 10l.94 2.06.94-2.06 2.06-.94-2.06-.94-.94-2.06-.94 2.06-2.06.94z\"/><path d=\"M17.41 7.96l-1.37-1.37c-.4-.4-.92-.59-1.43-.59-.52 0-1.04.2-1.43.59L10.3 9.45l-7.72 7.72c-.78.78-.78 2.05 0 2.83L4 21.41c.39.39.9.59 1.41.59.51 0 1.02-.2 1.41-.59l7.78-7.78 2.81-2.81c.8-.78.8-2.07 0-2.86zM5.41 20L4 18.59l7.72-7.72 1.47 1.35L5.41 20z\"/>\n",
              "  </svg>\n",
              "      </button>\n",
              "      \n",
              "  <style>\n",
              "    .colab-df-container {\n",
              "      display:flex;\n",
              "      flex-wrap:wrap;\n",
              "      gap: 12px;\n",
              "    }\n",
              "\n",
              "    .colab-df-convert {\n",
              "      background-color: #E8F0FE;\n",
              "      border: none;\n",
              "      border-radius: 50%;\n",
              "      cursor: pointer;\n",
              "      display: none;\n",
              "      fill: #1967D2;\n",
              "      height: 32px;\n",
              "      padding: 0 0 0 0;\n",
              "      width: 32px;\n",
              "    }\n",
              "\n",
              "    .colab-df-convert:hover {\n",
              "      background-color: #E2EBFA;\n",
              "      box-shadow: 0px 1px 2px rgba(60, 64, 67, 0.3), 0px 1px 3px 1px rgba(60, 64, 67, 0.15);\n",
              "      fill: #174EA6;\n",
              "    }\n",
              "\n",
              "    [theme=dark] .colab-df-convert {\n",
              "      background-color: #3B4455;\n",
              "      fill: #D2E3FC;\n",
              "    }\n",
              "\n",
              "    [theme=dark] .colab-df-convert:hover {\n",
              "      background-color: #434B5C;\n",
              "      box-shadow: 0px 1px 3px 1px rgba(0, 0, 0, 0.15);\n",
              "      filter: drop-shadow(0px 1px 2px rgba(0, 0, 0, 0.3));\n",
              "      fill: #FFFFFF;\n",
              "    }\n",
              "  </style>\n",
              "\n",
              "      <script>\n",
              "        const buttonEl =\n",
              "          document.querySelector('#df-6a286cf0-7fc4-4846-a63c-64af3eeba0bb button.colab-df-convert');\n",
              "        buttonEl.style.display =\n",
              "          google.colab.kernel.accessAllowed ? 'block' : 'none';\n",
              "\n",
              "        async function convertToInteractive(key) {\n",
              "          const element = document.querySelector('#df-6a286cf0-7fc4-4846-a63c-64af3eeba0bb');\n",
              "          const dataTable =\n",
              "            await google.colab.kernel.invokeFunction('convertToInteractive',\n",
              "                                                     [key], {});\n",
              "          if (!dataTable) return;\n",
              "\n",
              "          const docLinkHtml = 'Like what you see? Visit the ' +\n",
              "            '<a target=\"_blank\" href=https://colab.research.google.com/notebooks/data_table.ipynb>data table notebook</a>'\n",
              "            + ' to learn more about interactive tables.';\n",
              "          element.innerHTML = '';\n",
              "          dataTable['output_type'] = 'display_data';\n",
              "          await google.colab.output.renderOutput(dataTable, element);\n",
              "          const docLink = document.createElement('div');\n",
              "          docLink.innerHTML = docLinkHtml;\n",
              "          element.appendChild(docLink);\n",
              "        }\n",
              "      </script>\n",
              "    </div>\n",
              "  </div>\n",
              "  "
            ],
            "text/plain": [
              "                 Model  Accuracy  Precision  Recall  F1-Score\n",
              "0  Logistic Regression     0.853      0.432   0.787     0.558\n",
              "1        Random Forest     0.862      0.454   0.819     0.584\n",
              "2        Decision Tree     0.805      0.367   0.901     0.522\n",
              "3             XGBoosts     0.898      0.560   0.654     0.604\n",
              "4             LightGBM     0.885      0.509   0.748     0.606"
            ]
          },
          "metadata": {},
          "execution_count": 106
        }
      ]
    },
    {
      "cell_type": "code",
      "source": [
        ""
      ],
      "metadata": {
        "id": "qxSNzx0OP2z3"
      },
      "execution_count": null,
      "outputs": []
    },
    {
      "cell_type": "markdown",
      "metadata": {
        "id": "Pdj9ED8sYzJA"
      },
      "source": [
        "\n",
        "# 7. Conclusions"
      ]
    },
    {
      "cell_type": "markdown",
      "source": [
        "### Model Selection\n",
        "\n",
        "Before we move on to detailed analysis, let us first define several concepts:\n",
        "* *True Positive*: the model predicts the customer will default, and he/she did default (didn't pay dues).\n",
        "* *False Positive*: the model predicts the customer will default, but he/she didn't default (pay dues in time).\n",
        "* *True Negative*: the model predicts the customer will not default, and he/she didn't default (pay dues in time).\n",
        "* *False Negative*: the model predicts the customer will not default, however, he/she did default (didn't pay dues).\n",
        "* ***Precision***: among all the predicted defaults, how many customers are really defaults (didn't pay dues).\n",
        "* ***Recall***: among all the customers that are actually defaulted, how many did the model successfully predicted.\n",
        "\n",
        "\n",
        "Based on the metrics comparison table, we notice that **XGBoosts** and **LightGBM** have a relatively better performance, in terms of Accuracy and F1-Score. They also have high AUC Score. The only difference is that **XGBoosts** has a higher Precision score, but a lower Recall score, as compared to **LightGBM**.\n",
        "\n",
        "On the business side, since Planet Fitness is targeting at growing customer base, by giving out long-term membership offers, it would be more likely to see **less *False Positive***. The **risk** of *False Positive* is that, Planet Fitness will falsely/accidentally turn down some valuable customers, **losing a large potential market**. (Some loyal customers may also bring in their friends who might then become new memebers).\n",
        "\n",
        "On the other hand, we can **tolerate up to a certain level of *False Negative*(customer will default but we fail to identify)**, as long as it is controllable (e.g., within 5%). This is because we do not want to discourage customers from coming to gyms and becoming memberships. Instead, we want all the customers become sticky to the memberships.\n",
        "\n",
        "As such, **XGBoosts** would be the final model selection, since we want to minimize *False Positive*, and therefore achieving a higher *Precision* score. "
      ],
      "metadata": {
        "id": "SW5a2ddOQ4oJ"
      }
    },
    {
      "cell_type": "markdown",
      "source": [
        "### Further Analysis\n",
        "\n",
        "In order to have a more accurate prediction, **additional member data** (e.g., job, income, location, habits) is required to establish customer groups.\n",
        "\n",
        "Based on the clustering and prediction of default probability, **proposed different marketing strategies (action bundles)** could be set up, in order to understand the potential reason of defaulting, and hopefully to avoid having customers defaulting on the gym membership payments."
      ],
      "metadata": {
        "id": "WDvcie1Kc6Wm"
      }
    },
    {
      "cell_type": "markdown",
      "metadata": {
        "id": "vc84gBAjYzAV"
      },
      "source": [
        "# 8. References"
      ]
    },
    {
      "cell_type": "markdown",
      "source": [
        "[1] RandomForrestClassifier, https://scikit-learn.org/stable/modules/generated/sklearn.ensemble.RandomForestClassifier.html\n",
        "\n",
        "[2] Default of Credit Card Clients - Predictive Models, https://www.kaggle.com/gpreda/default-of-credit-card-clients-predictive-models#References\n",
        "\n",
        "[3] Planet Fitness: Strong Franchise Growth And Household Incomes Are Pushing The Stock Higher Into 2020, https://seekingalpha.com/article/4320121-planet-fitness-strong-franchise-growth-and-household-incomes-are-pushing-stock-higher-2020\n",
        "\n",
        "[4] LightGBM Python Implementation, https://github.com/Microsoft/LightGBM/tree/master/python-package\n",
        "\n",
        "[5] Understanding Decisions Trees, https://towardsdatascience.com/understanding-decision-trees-once-and-for-all-2d891b1be579"
      ],
      "metadata": {
        "id": "-xrrGh5FeYOW"
      }
    }
  ],
  "metadata": {
    "colab": {
      "collapsed_sections": [],
      "name": "Customer Default Analysis for Planet Fitness .ipynb",
      "provenance": []
    },
    "kernelspec": {
      "display_name": "Python 3",
      "name": "python3"
    },
    "language_info": {
      "name": "python"
    }
  },
  "nbformat": 4,
  "nbformat_minor": 0
}